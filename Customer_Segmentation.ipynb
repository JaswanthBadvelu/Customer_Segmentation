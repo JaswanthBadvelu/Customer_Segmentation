{
 "cells": [
  {
   "cell_type": "code",
   "execution_count": 1,
   "metadata": {},
   "outputs": [],
   "source": [
    "import pandas as pd\n",
    "import matplotlib\n",
    "import matplotlib.pyplot as plt\n",
    "cust=pd.read_csv(\"cust.csv\")\n",
    "acct=pd.read_csv(\"acct.csv\")\n",
    "trans=pd.read_csv(\"tran.csv\")"
   ]
  },
  {
   "cell_type": "code",
   "execution_count": 2,
   "metadata": {},
   "outputs": [],
   "source": [
    "trans\n",
    "trans=trans.drop(['locationRegion','locationCity','accountId'],axis=1)\n",
    "trans=trans.rename(columns={'Unnamed: 0': \"SerialNo\"})"
   ]
  },
  {
   "cell_type": "code",
   "execution_count": 3,
   "metadata": {},
   "outputs": [
    {
     "data": {
      "text/html": [
       "<div>\n",
       "<style scoped>\n",
       "    .dataframe tbody tr th:only-of-type {\n",
       "        vertical-align: middle;\n",
       "    }\n",
       "\n",
       "    .dataframe tbody tr th {\n",
       "        vertical-align: top;\n",
       "    }\n",
       "\n",
       "    .dataframe thead th {\n",
       "        text-align: right;\n",
       "    }\n",
       "</style>\n",
       "<table border=\"1\" class=\"dataframe\">\n",
       "  <thead>\n",
       "    <tr style=\"text-align: right;\">\n",
       "      <th></th>\n",
       "      <th>id</th>\n",
       "      <th>gender</th>\n",
       "      <th>birthDate</th>\n",
       "      <th>occupationIndustry</th>\n",
       "      <th>totalIncome</th>\n",
       "      <th>relationshipStatus</th>\n",
       "      <th>habitationStatus</th>\n",
       "      <th>balance</th>\n",
       "    </tr>\n",
       "  </thead>\n",
       "  <tbody>\n",
       "    <tr>\n",
       "      <th>0</th>\n",
       "      <td>fe51c153-fbec-4b64-9b00-2530035ef0e1_1bf5af3c-...</td>\n",
       "      <td>Male</td>\n",
       "      <td>12/26/1985</td>\n",
       "      <td>NaN</td>\n",
       "      <td>0.00</td>\n",
       "      <td>Single</td>\n",
       "      <td>Group</td>\n",
       "      <td>0.00</td>\n",
       "    </tr>\n",
       "    <tr>\n",
       "      <th>1</th>\n",
       "      <td>fe51c153-fbec-4b64-9b00-2530035ef0e1_6e740a94-...</td>\n",
       "      <td>Female</td>\n",
       "      <td>1/30/1977</td>\n",
       "      <td>5221 Depository credit intermediation</td>\n",
       "      <td>40009.20</td>\n",
       "      <td>Married</td>\n",
       "      <td>With Spouse</td>\n",
       "      <td>39306.34</td>\n",
       "    </tr>\n",
       "    <tr>\n",
       "      <th>2</th>\n",
       "      <td>fe51c153-fbec-4b64-9b00-2530035ef0e1_3918fdef-...</td>\n",
       "      <td>Female</td>\n",
       "      <td>11/22/2003</td>\n",
       "      <td>NaN</td>\n",
       "      <td>0.00</td>\n",
       "      <td>Single</td>\n",
       "      <td>With Parent</td>\n",
       "      <td>122.16</td>\n",
       "    </tr>\n",
       "    <tr>\n",
       "      <th>3</th>\n",
       "      <td>fe51c153-fbec-4b64-9b00-2530035ef0e1_d81a6d15-...</td>\n",
       "      <td>Other</td>\n",
       "      <td>5/7/1983</td>\n",
       "      <td>5412 Accounting, tax preparation, bookkeeping ...</td>\n",
       "      <td>44709.00</td>\n",
       "      <td>Married</td>\n",
       "      <td>With Spouse</td>\n",
       "      <td>43687.72</td>\n",
       "    </tr>\n",
       "    <tr>\n",
       "      <th>4</th>\n",
       "      <td>fe51c153-fbec-4b64-9b00-2530035ef0e1_e21dfbc8-...</td>\n",
       "      <td>Male</td>\n",
       "      <td>1/29/1983</td>\n",
       "      <td>4855 Charter bus industry</td>\n",
       "      <td>21496.00</td>\n",
       "      <td>Single</td>\n",
       "      <td>With Parent</td>\n",
       "      <td>23456.30</td>\n",
       "    </tr>\n",
       "    <tr>\n",
       "      <th>...</th>\n",
       "      <td>...</td>\n",
       "      <td>...</td>\n",
       "      <td>...</td>\n",
       "      <td>...</td>\n",
       "      <td>...</td>\n",
       "      <td>...</td>\n",
       "      <td>...</td>\n",
       "      <td>...</td>\n",
       "    </tr>\n",
       "    <tr>\n",
       "      <th>5640</th>\n",
       "      <td>fe51c153-fbec-4b64-9b00-2530035ef0e1_d25e64c5-...</td>\n",
       "      <td>Female</td>\n",
       "      <td>9/17/1956</td>\n",
       "      <td>5111 Newspaper, periodical, book and director ...</td>\n",
       "      <td>33060.95</td>\n",
       "      <td>Married</td>\n",
       "      <td>With Spouse</td>\n",
       "      <td>20443.75</td>\n",
       "    </tr>\n",
       "    <tr>\n",
       "      <th>5641</th>\n",
       "      <td>fe51c153-fbec-4b64-9b00-2530035ef0e1_55d08cd9-...</td>\n",
       "      <td>Male</td>\n",
       "      <td>12/26/1985</td>\n",
       "      <td>9120 Provincial and territorial public adminis...</td>\n",
       "      <td>39959.00</td>\n",
       "      <td>Married</td>\n",
       "      <td>With Spouse</td>\n",
       "      <td>30817.58</td>\n",
       "    </tr>\n",
       "    <tr>\n",
       "      <th>5642</th>\n",
       "      <td>fe51c153-fbec-4b64-9b00-2530035ef0e1_8e9029ec-...</td>\n",
       "      <td>Male</td>\n",
       "      <td>11/23/1960</td>\n",
       "      <td>5415 Computer systems design and related services</td>\n",
       "      <td>40011.95</td>\n",
       "      <td>Married</td>\n",
       "      <td>With Spouse</td>\n",
       "      <td>40829.18</td>\n",
       "    </tr>\n",
       "    <tr>\n",
       "      <th>5643</th>\n",
       "      <td>fe51c153-fbec-4b64-9b00-2530035ef0e1_3d20f907-...</td>\n",
       "      <td>Male</td>\n",
       "      <td>11/23/1928</td>\n",
       "      <td>Retired</td>\n",
       "      <td>61873.00</td>\n",
       "      <td>Widowed</td>\n",
       "      <td>NaN</td>\n",
       "      <td>33876.02</td>\n",
       "    </tr>\n",
       "    <tr>\n",
       "      <th>5644</th>\n",
       "      <td>fe51c153-fbec-4b64-9b00-2530035ef0e1_1094a27a-...</td>\n",
       "      <td>Female</td>\n",
       "      <td>12/27/1955</td>\n",
       "      <td>5616 Investigation and security services</td>\n",
       "      <td>32565.05</td>\n",
       "      <td>Single</td>\n",
       "      <td>Group</td>\n",
       "      <td>14854.67</td>\n",
       "    </tr>\n",
       "  </tbody>\n",
       "</table>\n",
       "<p>5645 rows × 8 columns</p>\n",
       "</div>"
      ],
      "text/plain": [
       "                                                     id  gender   birthDate  \\\n",
       "0     fe51c153-fbec-4b64-9b00-2530035ef0e1_1bf5af3c-...    Male  12/26/1985   \n",
       "1     fe51c153-fbec-4b64-9b00-2530035ef0e1_6e740a94-...  Female   1/30/1977   \n",
       "2     fe51c153-fbec-4b64-9b00-2530035ef0e1_3918fdef-...  Female  11/22/2003   \n",
       "3     fe51c153-fbec-4b64-9b00-2530035ef0e1_d81a6d15-...   Other    5/7/1983   \n",
       "4     fe51c153-fbec-4b64-9b00-2530035ef0e1_e21dfbc8-...    Male   1/29/1983   \n",
       "...                                                 ...     ...         ...   \n",
       "5640  fe51c153-fbec-4b64-9b00-2530035ef0e1_d25e64c5-...  Female   9/17/1956   \n",
       "5641  fe51c153-fbec-4b64-9b00-2530035ef0e1_55d08cd9-...    Male  12/26/1985   \n",
       "5642  fe51c153-fbec-4b64-9b00-2530035ef0e1_8e9029ec-...    Male  11/23/1960   \n",
       "5643  fe51c153-fbec-4b64-9b00-2530035ef0e1_3d20f907-...    Male  11/23/1928   \n",
       "5644  fe51c153-fbec-4b64-9b00-2530035ef0e1_1094a27a-...  Female  12/27/1955   \n",
       "\n",
       "                                     occupationIndustry  totalIncome  \\\n",
       "0                                                   NaN         0.00   \n",
       "1                 5221 Depository credit intermediation     40009.20   \n",
       "2                                                   NaN         0.00   \n",
       "3     5412 Accounting, tax preparation, bookkeeping ...     44709.00   \n",
       "4                             4855 Charter bus industry     21496.00   \n",
       "...                                                 ...          ...   \n",
       "5640  5111 Newspaper, periodical, book and director ...     33060.95   \n",
       "5641  9120 Provincial and territorial public adminis...     39959.00   \n",
       "5642  5415 Computer systems design and related services     40011.95   \n",
       "5643                                            Retired     61873.00   \n",
       "5644           5616 Investigation and security services     32565.05   \n",
       "\n",
       "     relationshipStatus habitationStatus   balance  \n",
       "0                Single            Group      0.00  \n",
       "1               Married      With Spouse  39306.34  \n",
       "2                Single      With Parent    122.16  \n",
       "3               Married      With Spouse  43687.72  \n",
       "4                Single      With Parent  23456.30  \n",
       "...                 ...              ...       ...  \n",
       "5640            Married      With Spouse  20443.75  \n",
       "5641            Married      With Spouse  30817.58  \n",
       "5642            Married      With Spouse  40829.18  \n",
       "5643            Widowed              NaN  33876.02  \n",
       "5644             Single            Group  14854.67  \n",
       "\n",
       "[5645 rows x 8 columns]"
      ]
     },
     "execution_count": 3,
     "metadata": {},
     "output_type": "execute_result"
    }
   ],
   "source": [
    "total_balance=acct.groupby(['cust_id'])[['balance']].sum().reset_index()\n",
    "data=pd.merge(cust,total_balance,how=\"inner\",left_on='id',right_on='cust_id')\n",
    "data=data.drop(['Unnamed: 0','cust_id','type','workActivity','addresses_principalResidence_province','schoolAttendance','schools'],axis=1)\n",
    "data "
   ]
  },
  {
   "cell_type": "code",
   "execution_count": 4,
   "metadata": {},
   "outputs": [
    {
     "data": {
      "text/html": [
       "<div>\n",
       "<style scoped>\n",
       "    .dataframe tbody tr th:only-of-type {\n",
       "        vertical-align: middle;\n",
       "    }\n",
       "\n",
       "    .dataframe tbody tr th {\n",
       "        vertical-align: top;\n",
       "    }\n",
       "\n",
       "    .dataframe thead th {\n",
       "        text-align: right;\n",
       "    }\n",
       "</style>\n",
       "<table border=\"1\" class=\"dataframe\">\n",
       "  <thead>\n",
       "    <tr style=\"text-align: right;\">\n",
       "      <th></th>\n",
       "      <th>SerialNo</th>\n",
       "      <th>description</th>\n",
       "      <th>currencyAmount</th>\n",
       "      <th>originationDateTime</th>\n",
       "      <th>customerId</th>\n",
       "      <th>merchantId</th>\n",
       "      <th>categoryTags</th>\n",
       "      <th>id</th>\n",
       "      <th>gender</th>\n",
       "      <th>birthDate</th>\n",
       "      <th>occupationIndustry</th>\n",
       "      <th>totalIncome</th>\n",
       "      <th>relationshipStatus</th>\n",
       "      <th>habitationStatus</th>\n",
       "      <th>balance</th>\n",
       "    </tr>\n",
       "  </thead>\n",
       "  <tbody>\n",
       "    <tr>\n",
       "      <th>0</th>\n",
       "      <td>0</td>\n",
       "      <td>ADP PMT 59964899</td>\n",
       "      <td>1092.22</td>\n",
       "      <td>2018-06-28T00:00:00.001Z</td>\n",
       "      <td>fe51c153-fbec-4b64-9b00-2530035ef0e1_fa967441-...</td>\n",
       "      <td>NaN</td>\n",
       "      <td>Income</td>\n",
       "      <td>fe51c153-fbec-4b64-9b00-2530035ef0e1_fa967441-...</td>\n",
       "      <td>Female</td>\n",
       "      <td>11/21/1969</td>\n",
       "      <td>6220 Hospitals (6221 to 6223)</td>\n",
       "      <td>28397.60</td>\n",
       "      <td>Married</td>\n",
       "      <td>With Spouse</td>\n",
       "      <td>28283.09</td>\n",
       "    </tr>\n",
       "    <tr>\n",
       "      <th>1</th>\n",
       "      <td>1</td>\n",
       "      <td>ADP PMT 78870688</td>\n",
       "      <td>701.11</td>\n",
       "      <td>2018-06-28T00:00:00.001Z</td>\n",
       "      <td>fe51c153-fbec-4b64-9b00-2530035ef0e1_ee129e70-...</td>\n",
       "      <td>NaN</td>\n",
       "      <td>Income</td>\n",
       "      <td>fe51c153-fbec-4b64-9b00-2530035ef0e1_ee129e70-...</td>\n",
       "      <td>Male</td>\n",
       "      <td>6/10/1995</td>\n",
       "      <td>2211 Electric power generation, transmission a...</td>\n",
       "      <td>18228.87</td>\n",
       "      <td>Single</td>\n",
       "      <td>With Spouse</td>\n",
       "      <td>9432.24</td>\n",
       "    </tr>\n",
       "    <tr>\n",
       "      <th>2</th>\n",
       "      <td>2</td>\n",
       "      <td>ROGERS CABLE E2I6X9</td>\n",
       "      <td>111.98</td>\n",
       "      <td>2018-04-30T00:00:00.002Z</td>\n",
       "      <td>fe51c153-fbec-4b64-9b00-2530035ef0e1_ad635ae8-...</td>\n",
       "      <td>3d99af81-c081-4d73-bc44-d3a8e639b22a</td>\n",
       "      <td>Bills and Utilities</td>\n",
       "      <td>fe51c153-fbec-4b64-9b00-2530035ef0e1_ad635ae8-...</td>\n",
       "      <td>Female</td>\n",
       "      <td>9/17/1970</td>\n",
       "      <td>5221 Depository credit intermediation</td>\n",
       "      <td>42524.90</td>\n",
       "      <td>Divorced</td>\n",
       "      <td>With Spouse</td>\n",
       "      <td>33204.10</td>\n",
       "    </tr>\n",
       "    <tr>\n",
       "      <th>3</th>\n",
       "      <td>3</td>\n",
       "      <td>TIM HORTONS #990 _F</td>\n",
       "      <td>1.16</td>\n",
       "      <td>2018-10-09T15:30:00Z</td>\n",
       "      <td>fe51c153-fbec-4b64-9b00-2530035ef0e1_12bd4e47-...</td>\n",
       "      <td>7cc23aa6-0671-4c44-a1b5-b8a98d4bc5d4</td>\n",
       "      <td>Food and Dining</td>\n",
       "      <td>fe51c153-fbec-4b64-9b00-2530035ef0e1_12bd4e47-...</td>\n",
       "      <td>Male</td>\n",
       "      <td>7/13/1999</td>\n",
       "      <td>NaN</td>\n",
       "      <td>0.00</td>\n",
       "      <td>Single</td>\n",
       "      <td>With Parent</td>\n",
       "      <td>101.75</td>\n",
       "    </tr>\n",
       "    <tr>\n",
       "      <th>4</th>\n",
       "      <td>4</td>\n",
       "      <td>EMAIL TFR C0***oHp</td>\n",
       "      <td>41.00</td>\n",
       "      <td>2018-07-05T00:00:00.001Z</td>\n",
       "      <td>fe51c153-fbec-4b64-9b00-2530035ef0e1_fb97a9de-...</td>\n",
       "      <td>NaN</td>\n",
       "      <td>Transfer</td>\n",
       "      <td>fe51c153-fbec-4b64-9b00-2530035ef0e1_fb97a9de-...</td>\n",
       "      <td>Male</td>\n",
       "      <td>9/16/1982</td>\n",
       "      <td>5615 Travel arrangement and reservation services</td>\n",
       "      <td>34359.00</td>\n",
       "      <td>Single</td>\n",
       "      <td>With Parent</td>\n",
       "      <td>39127.80</td>\n",
       "    </tr>\n",
       "    <tr>\n",
       "      <th>...</th>\n",
       "      <td>...</td>\n",
       "      <td>...</td>\n",
       "      <td>...</td>\n",
       "      <td>...</td>\n",
       "      <td>...</td>\n",
       "      <td>...</td>\n",
       "      <td>...</td>\n",
       "      <td>...</td>\n",
       "      <td>...</td>\n",
       "      <td>...</td>\n",
       "      <td>...</td>\n",
       "      <td>...</td>\n",
       "      <td>...</td>\n",
       "      <td>...</td>\n",
       "      <td>...</td>\n",
       "    </tr>\n",
       "    <tr>\n",
       "      <th>92299</th>\n",
       "      <td>92299</td>\n",
       "      <td>MCDONALD'S #11273 QPS</td>\n",
       "      <td>7.41</td>\n",
       "      <td>2018-05-04T12:39:00Z</td>\n",
       "      <td>fe51c153-fbec-4b64-9b00-2530035ef0e1_0138b39d-...</td>\n",
       "      <td>9104ad1d-7927-4734-93b6-5ae5af2d4e12</td>\n",
       "      <td>Food and Dining</td>\n",
       "      <td>fe51c153-fbec-4b64-9b00-2530035ef0e1_0138b39d-...</td>\n",
       "      <td>Male</td>\n",
       "      <td>9/18/1998</td>\n",
       "      <td>6213 Offices of other health practitioners</td>\n",
       "      <td>51449.64</td>\n",
       "      <td>Single</td>\n",
       "      <td>NaN</td>\n",
       "      <td>38820.26</td>\n",
       "    </tr>\n",
       "    <tr>\n",
       "      <th>92300</th>\n",
       "      <td>92300</td>\n",
       "      <td>BELL CANADA M1B6P4</td>\n",
       "      <td>113.42</td>\n",
       "      <td>2018-05-07T00:00:00.001Z</td>\n",
       "      <td>fe51c153-fbec-4b64-9b00-2530035ef0e1_975020be-...</td>\n",
       "      <td>338b9026-ebdd-4f32-8e01-4a46572b0d65</td>\n",
       "      <td>Bills and Utilities</td>\n",
       "      <td>fe51c153-fbec-4b64-9b00-2530035ef0e1_975020be-...</td>\n",
       "      <td>Female</td>\n",
       "      <td>11/23/1962</td>\n",
       "      <td>5411 Legal services</td>\n",
       "      <td>63373.05</td>\n",
       "      <td>Divorced</td>\n",
       "      <td>With Spouse</td>\n",
       "      <td>65605.78</td>\n",
       "    </tr>\n",
       "    <tr>\n",
       "      <th>92301</th>\n",
       "      <td>92301</td>\n",
       "      <td>ADP PMT 68888355</td>\n",
       "      <td>3484.64</td>\n",
       "      <td>2018-05-03T00:00:00.001Z</td>\n",
       "      <td>fe51c153-fbec-4b64-9b00-2530035ef0e1_971442e4-...</td>\n",
       "      <td>NaN</td>\n",
       "      <td>Income</td>\n",
       "      <td>fe51c153-fbec-4b64-9b00-2530035ef0e1_971442e4-...</td>\n",
       "      <td>Female</td>\n",
       "      <td>6/10/1953</td>\n",
       "      <td>7222 Limited-service restaurants</td>\n",
       "      <td>90600.55</td>\n",
       "      <td>Married</td>\n",
       "      <td>With Spouse</td>\n",
       "      <td>86124.51</td>\n",
       "    </tr>\n",
       "    <tr>\n",
       "      <th>92302</th>\n",
       "      <td>92302</td>\n",
       "      <td>MCDONALD'S #29047 QPS</td>\n",
       "      <td>5.91</td>\n",
       "      <td>2018-07-12T07:46:00Z</td>\n",
       "      <td>fe51c153-fbec-4b64-9b00-2530035ef0e1_c68e5395-...</td>\n",
       "      <td>6d0575a5-33f9-415c-ad96-0e1484e1e0f6</td>\n",
       "      <td>Food and Dining</td>\n",
       "      <td>fe51c153-fbec-4b64-9b00-2530035ef0e1_c68e5395-...</td>\n",
       "      <td>Female</td>\n",
       "      <td>5/7/2001</td>\n",
       "      <td>NaN</td>\n",
       "      <td>0.00</td>\n",
       "      <td>Single</td>\n",
       "      <td>With Parent</td>\n",
       "      <td>159.48</td>\n",
       "    </tr>\n",
       "    <tr>\n",
       "      <th>92303</th>\n",
       "      <td>92303</td>\n",
       "      <td>DU719 TFR-TO C/C</td>\n",
       "      <td>190.01</td>\n",
       "      <td>2018-06-01T00:00:00.001Z</td>\n",
       "      <td>fe51c153-fbec-4b64-9b00-2530035ef0e1_320fb2f2-...</td>\n",
       "      <td>852223a6-f227-4e4c-818e-36bb880866f2</td>\n",
       "      <td>Transfer</td>\n",
       "      <td>fe51c153-fbec-4b64-9b00-2530035ef0e1_320fb2f2-...</td>\n",
       "      <td>Male</td>\n",
       "      <td>12/25/1993</td>\n",
       "      <td>6116 Other school and instruction</td>\n",
       "      <td>8665.47</td>\n",
       "      <td>Single</td>\n",
       "      <td>With Parent</td>\n",
       "      <td>9452.60</td>\n",
       "    </tr>\n",
       "  </tbody>\n",
       "</table>\n",
       "<p>92304 rows × 15 columns</p>\n",
       "</div>"
      ],
      "text/plain": [
       "       SerialNo            description  currencyAmount  \\\n",
       "0             0       ADP PMT 59964899         1092.22   \n",
       "1             1       ADP PMT 78870688          701.11   \n",
       "2             2    ROGERS CABLE E2I6X9          111.98   \n",
       "3             3    TIM HORTONS #990 _F            1.16   \n",
       "4             4     EMAIL TFR C0***oHp           41.00   \n",
       "...         ...                    ...             ...   \n",
       "92299     92299  MCDONALD'S #11273 QPS            7.41   \n",
       "92300     92300     BELL CANADA M1B6P4          113.42   \n",
       "92301     92301       ADP PMT 68888355         3484.64   \n",
       "92302     92302  MCDONALD'S #29047 QPS            5.91   \n",
       "92303     92303       DU719 TFR-TO C/C          190.01   \n",
       "\n",
       "            originationDateTime  \\\n",
       "0      2018-06-28T00:00:00.001Z   \n",
       "1      2018-06-28T00:00:00.001Z   \n",
       "2      2018-04-30T00:00:00.002Z   \n",
       "3          2018-10-09T15:30:00Z   \n",
       "4      2018-07-05T00:00:00.001Z   \n",
       "...                         ...   \n",
       "92299      2018-05-04T12:39:00Z   \n",
       "92300  2018-05-07T00:00:00.001Z   \n",
       "92301  2018-05-03T00:00:00.001Z   \n",
       "92302      2018-07-12T07:46:00Z   \n",
       "92303  2018-06-01T00:00:00.001Z   \n",
       "\n",
       "                                              customerId  \\\n",
       "0      fe51c153-fbec-4b64-9b00-2530035ef0e1_fa967441-...   \n",
       "1      fe51c153-fbec-4b64-9b00-2530035ef0e1_ee129e70-...   \n",
       "2      fe51c153-fbec-4b64-9b00-2530035ef0e1_ad635ae8-...   \n",
       "3      fe51c153-fbec-4b64-9b00-2530035ef0e1_12bd4e47-...   \n",
       "4      fe51c153-fbec-4b64-9b00-2530035ef0e1_fb97a9de-...   \n",
       "...                                                  ...   \n",
       "92299  fe51c153-fbec-4b64-9b00-2530035ef0e1_0138b39d-...   \n",
       "92300  fe51c153-fbec-4b64-9b00-2530035ef0e1_975020be-...   \n",
       "92301  fe51c153-fbec-4b64-9b00-2530035ef0e1_971442e4-...   \n",
       "92302  fe51c153-fbec-4b64-9b00-2530035ef0e1_c68e5395-...   \n",
       "92303  fe51c153-fbec-4b64-9b00-2530035ef0e1_320fb2f2-...   \n",
       "\n",
       "                                 merchantId         categoryTags  \\\n",
       "0                                       NaN               Income   \n",
       "1                                       NaN               Income   \n",
       "2      3d99af81-c081-4d73-bc44-d3a8e639b22a  Bills and Utilities   \n",
       "3      7cc23aa6-0671-4c44-a1b5-b8a98d4bc5d4      Food and Dining   \n",
       "4                                       NaN             Transfer   \n",
       "...                                     ...                  ...   \n",
       "92299  9104ad1d-7927-4734-93b6-5ae5af2d4e12      Food and Dining   \n",
       "92300  338b9026-ebdd-4f32-8e01-4a46572b0d65  Bills and Utilities   \n",
       "92301                                   NaN               Income   \n",
       "92302  6d0575a5-33f9-415c-ad96-0e1484e1e0f6      Food and Dining   \n",
       "92303  852223a6-f227-4e4c-818e-36bb880866f2             Transfer   \n",
       "\n",
       "                                                      id  gender   birthDate  \\\n",
       "0      fe51c153-fbec-4b64-9b00-2530035ef0e1_fa967441-...  Female  11/21/1969   \n",
       "1      fe51c153-fbec-4b64-9b00-2530035ef0e1_ee129e70-...    Male   6/10/1995   \n",
       "2      fe51c153-fbec-4b64-9b00-2530035ef0e1_ad635ae8-...  Female   9/17/1970   \n",
       "3      fe51c153-fbec-4b64-9b00-2530035ef0e1_12bd4e47-...    Male   7/13/1999   \n",
       "4      fe51c153-fbec-4b64-9b00-2530035ef0e1_fb97a9de-...    Male   9/16/1982   \n",
       "...                                                  ...     ...         ...   \n",
       "92299  fe51c153-fbec-4b64-9b00-2530035ef0e1_0138b39d-...    Male   9/18/1998   \n",
       "92300  fe51c153-fbec-4b64-9b00-2530035ef0e1_975020be-...  Female  11/23/1962   \n",
       "92301  fe51c153-fbec-4b64-9b00-2530035ef0e1_971442e4-...  Female   6/10/1953   \n",
       "92302  fe51c153-fbec-4b64-9b00-2530035ef0e1_c68e5395-...  Female    5/7/2001   \n",
       "92303  fe51c153-fbec-4b64-9b00-2530035ef0e1_320fb2f2-...    Male  12/25/1993   \n",
       "\n",
       "                                      occupationIndustry  totalIncome  \\\n",
       "0                          6220 Hospitals (6221 to 6223)     28397.60   \n",
       "1      2211 Electric power generation, transmission a...     18228.87   \n",
       "2                  5221 Depository credit intermediation     42524.90   \n",
       "3                                                    NaN         0.00   \n",
       "4       5615 Travel arrangement and reservation services     34359.00   \n",
       "...                                                  ...          ...   \n",
       "92299         6213 Offices of other health practitioners     51449.64   \n",
       "92300                                5411 Legal services     63373.05   \n",
       "92301                   7222 Limited-service restaurants     90600.55   \n",
       "92302                                                NaN         0.00   \n",
       "92303                  6116 Other school and instruction      8665.47   \n",
       "\n",
       "      relationshipStatus habitationStatus   balance  \n",
       "0                Married      With Spouse  28283.09  \n",
       "1                 Single      With Spouse   9432.24  \n",
       "2               Divorced      With Spouse  33204.10  \n",
       "3                 Single      With Parent    101.75  \n",
       "4                 Single      With Parent  39127.80  \n",
       "...                  ...              ...       ...  \n",
       "92299             Single              NaN  38820.26  \n",
       "92300           Divorced      With Spouse  65605.78  \n",
       "92301            Married      With Spouse  86124.51  \n",
       "92302             Single      With Parent    159.48  \n",
       "92303             Single      With Parent   9452.60  \n",
       "\n",
       "[92304 rows x 15 columns]"
      ]
     },
     "execution_count": 4,
     "metadata": {},
     "output_type": "execute_result"
    }
   ],
   "source": [
    "df = pd.merge(trans,data,left_on='customerId',right_on='id', how='left')\n",
    "df"
   ]
  },
  {
   "cell_type": "code",
   "execution_count": 5,
   "metadata": {},
   "outputs": [
    {
     "data": {
      "text/plain": [
       "SerialNo                   0\n",
       "description                0\n",
       "currencyAmount             0\n",
       "originationDateTime        0\n",
       "customerId                 0\n",
       "merchantId             49006\n",
       "categoryTags             144\n",
       "id                         0\n",
       "gender                     0\n",
       "birthDate                  0\n",
       "occupationIndustry     16518\n",
       "totalIncome                0\n",
       "relationshipStatus         0\n",
       "habitationStatus       11463\n",
       "balance                    0\n",
       "dtype: int64"
      ]
     },
     "execution_count": 5,
     "metadata": {},
     "output_type": "execute_result"
    }
   ],
   "source": [
    "df.apply(lambda x: sum(x.isnull()))"
   ]
  },
  {
   "cell_type": "code",
   "execution_count": 6,
   "metadata": {},
   "outputs": [
    {
     "data": {
      "application/javascript": [
       "\n",
       "        if (window._pyforest_update_imports_cell) { window._pyforest_update_imports_cell('import numpy as np'); }\n",
       "    "
      ],
      "text/plain": [
       "<IPython.core.display.Javascript object>"
      ]
     },
     "metadata": {},
     "output_type": "display_data"
    }
   ],
   "source": [
    "df['habitationStatus']    = df['habitationStatus'].replace(np.nan, 'Single')\n",
    "df['originationDateTime'] = df['originationDateTime'].map(lambda x: x.split('T', 1)[0])\n",
    "df['originationDateTime']=pd.to_datetime(df['originationDateTime'], format='%Y/%m/%d')\n",
    "df['birthDate']=pd.to_datetime(df['birthDate'], format='%m/%d/%Y')\n",
    "df['Age']=((df.originationDateTime-df.birthDate)/365).dt.days.astype('int16')\n",
    "bins= [10,20,30,40,50,60,70,110]\n",
    "labels = ['10-20','20-30','30-40','40-50','50-60', '60-70','70+']\n",
    "df['AgeGroup'] = pd.cut(df['Age'], bins=bins, labels=labels, right=False)"
   ]
  },
  {
   "cell_type": "code",
   "execution_count": 7,
   "metadata": {},
   "outputs": [],
   "source": [
    "import datetime\n",
    "max_date = max(df.originationDateTime) + datetime.timedelta(days=1)\n",
    "customers = df.groupby(['customerId']).agg({\n",
    "    'originationDateTime': lambda x: (max_date - x.max()).days,\n",
    "    'SerialNo': 'count',\n",
    "    'currencyAmount': 'sum'})\n",
    "# Rename columns\n",
    "customers.rename(columns = {'originationDateTime': 'Recency',\n",
    "                            'SerialNo': 'Frequency',\n",
    "                            'currencyAmount': 'MonetaryValue'}, inplace=True)"
   ]
  },
  {
   "cell_type": "code",
   "execution_count": 8,
   "metadata": {},
   "outputs": [
    {
     "data": {
      "application/javascript": [
       "\n",
       "        if (window._pyforest_update_imports_cell) { window._pyforest_update_imports_cell('import numpy as np\\nimport seaborn as sns'); }\n",
       "    "
      ],
      "text/plain": [
       "<IPython.core.display.Javascript object>"
      ]
     },
     "metadata": {},
     "output_type": "display_data"
    },
    {
     "data": {
      "application/javascript": [
       "\n",
       "        if (window._pyforest_update_imports_cell) { window._pyforest_update_imports_cell('import numpy as np\\nimport seaborn as sns'); }\n",
       "    "
      ],
      "text/plain": [
       "<IPython.core.display.Javascript object>"
      ]
     },
     "metadata": {},
     "output_type": "display_data"
    },
    {
     "data": {
      "application/javascript": [
       "\n",
       "        if (window._pyforest_update_imports_cell) { window._pyforest_update_imports_cell('import numpy as np\\nimport seaborn as sns'); }\n",
       "    "
      ],
      "text/plain": [
       "<IPython.core.display.Javascript object>"
      ]
     },
     "metadata": {},
     "output_type": "display_data"
    },
    {
     "data": {
      "image/png": "[encoded data removed]",
      "text/plain": [
       "<Figure size 864x720 with 3 Axes>"
      ]
     },
     "metadata": {
      "needs_background": "light"
     },
     "output_type": "display_data"
    }
   ],
   "source": [
    "plt.figure(figsize=(12,10)) # Figure size\n",
    "plt.subplot(3, 1, 1)\n",
    "sns.distplot(customers['Recency'])# Plot distribution of R_Value\n",
    "plt.subplot(3, 1, 2) \n",
    "sns.distplot(customers['Frequency'])# Plot distribution of F_Value\n",
    "plt.subplot(3, 1, 3)\n",
    "sns.distplot(customers['MonetaryValue'])# Plot distribution of M_Value\n",
    "plt.show()"
   ]
  },
  {
   "cell_type": "code",
   "execution_count": 9,
   "metadata": {},
   "outputs": [
    {
     "data": {
      "text/html": [
       "<div>\n",
       "<style scoped>\n",
       "    .dataframe tbody tr th:only-of-type {\n",
       "        vertical-align: middle;\n",
       "    }\n",
       "\n",
       "    .dataframe tbody tr th {\n",
       "        vertical-align: top;\n",
       "    }\n",
       "\n",
       "    .dataframe thead th {\n",
       "        text-align: right;\n",
       "    }\n",
       "</style>\n",
       "<table border=\"1\" class=\"dataframe\">\n",
       "  <thead>\n",
       "    <tr style=\"text-align: right;\">\n",
       "      <th></th>\n",
       "      <th>Recency</th>\n",
       "      <th>Frequency</th>\n",
       "      <th>MonetaryValue</th>\n",
       "      <th>R_Score</th>\n",
       "      <th>F_Score</th>\n",
       "      <th>M_Score</th>\n",
       "    </tr>\n",
       "    <tr>\n",
       "      <th>customerId</th>\n",
       "      <th></th>\n",
       "      <th></th>\n",
       "      <th></th>\n",
       "      <th></th>\n",
       "      <th></th>\n",
       "      <th></th>\n",
       "    </tr>\n",
       "  </thead>\n",
       "  <tbody>\n",
       "    <tr>\n",
       "      <th>fe51c153-fbec-4b64-9b00-2530035ef0e1_00004760-8e07-4751-a84d-7b915d9066a2</th>\n",
       "      <td>1</td>\n",
       "      <td>61</td>\n",
       "      <td>17271.44</td>\n",
       "      <td>4</td>\n",
       "      <td>4</td>\n",
       "      <td>4</td>\n",
       "    </tr>\n",
       "    <tr>\n",
       "      <th>fe51c153-fbec-4b64-9b00-2530035ef0e1_000d112c-153b-4265-8145-9df1e472d08f</th>\n",
       "      <td>22</td>\n",
       "      <td>23</td>\n",
       "      <td>4289.16</td>\n",
       "      <td>1</td>\n",
       "      <td>4</td>\n",
       "      <td>1</td>\n",
       "    </tr>\n",
       "    <tr>\n",
       "      <th>fe51c153-fbec-4b64-9b00-2530035ef0e1_000f6f85-533f-4ee9-8fbd-46c06e9514ef</th>\n",
       "      <td>10</td>\n",
       "      <td>12</td>\n",
       "      <td>336.00</td>\n",
       "      <td>3</td>\n",
       "      <td>2</td>\n",
       "      <td>1</td>\n",
       "    </tr>\n",
       "    <tr>\n",
       "      <th>fe51c153-fbec-4b64-9b00-2530035ef0e1_00155381-9a03-4624-bd14-aca494a734aa</th>\n",
       "      <td>19</td>\n",
       "      <td>4</td>\n",
       "      <td>856.23</td>\n",
       "      <td>2</td>\n",
       "      <td>1</td>\n",
       "      <td>1</td>\n",
       "    </tr>\n",
       "    <tr>\n",
       "      <th>fe51c153-fbec-4b64-9b00-2530035ef0e1_001588f9-484e-4406-973b-947e4fdb8ce4</th>\n",
       "      <td>1</td>\n",
       "      <td>9</td>\n",
       "      <td>14697.94</td>\n",
       "      <td>4</td>\n",
       "      <td>1</td>\n",
       "      <td>3</td>\n",
       "    </tr>\n",
       "  </tbody>\n",
       "</table>\n",
       "</div>"
      ],
      "text/plain": [
       "                                                    Recency  Frequency  \\\n",
       "customerId                                                               \n",
       "fe51c153-fbec-4b64-9b00-2530035ef0e1_00004760-8...        1         61   \n",
       "fe51c153-fbec-4b64-9b00-2530035ef0e1_000d112c-1...       22         23   \n",
       "fe51c153-fbec-4b64-9b00-2530035ef0e1_000f6f85-5...       10         12   \n",
       "fe51c153-fbec-4b64-9b00-2530035ef0e1_00155381-9...       19          4   \n",
       "fe51c153-fbec-4b64-9b00-2530035ef0e1_001588f9-4...        1          9   \n",
       "\n",
       "                                                    MonetaryValue R_Score  \\\n",
       "customerId                                                                  \n",
       "fe51c153-fbec-4b64-9b00-2530035ef0e1_00004760-8...       17271.44       4   \n",
       "fe51c153-fbec-4b64-9b00-2530035ef0e1_000d112c-1...        4289.16       1   \n",
       "fe51c153-fbec-4b64-9b00-2530035ef0e1_000f6f85-5...         336.00       3   \n",
       "fe51c153-fbec-4b64-9b00-2530035ef0e1_00155381-9...         856.23       2   \n",
       "fe51c153-fbec-4b64-9b00-2530035ef0e1_001588f9-4...       14697.94       4   \n",
       "\n",
       "                                                   F_Score M_Score  \n",
       "customerId                                                          \n",
       "fe51c153-fbec-4b64-9b00-2530035ef0e1_00004760-8...       4       4  \n",
       "fe51c153-fbec-4b64-9b00-2530035ef0e1_000d112c-1...       4       1  \n",
       "fe51c153-fbec-4b64-9b00-2530035ef0e1_000f6f85-5...       2       1  \n",
       "fe51c153-fbec-4b64-9b00-2530035ef0e1_00155381-9...       1       1  \n",
       "fe51c153-fbec-4b64-9b00-2530035ef0e1_001588f9-4...       1       3  "
      ]
     },
     "execution_count": 9,
     "metadata": {},
     "output_type": "execute_result"
    }
   ],
   "source": [
    "#Calculate R and F groups--\n",
    "# Create labels for Recency and Frequency\n",
    "r_labels = range(4, 0, -1); f_labels = range(1, 5)\n",
    "# Assign these labels to 4 equal percentile groups \n",
    "r_groups = pd.qcut(customers['Recency'], q=4, labels=r_labels)\n",
    "# Assign these labels to 4 equal percentile groups \n",
    "f_groups = pd.qcut(customers['Frequency'], q=4, labels=f_labels)\n",
    "# Create new columns R and F \n",
    "customers = customers.assign(R_Score = r_groups.values, F_Score = f_groups.values)\n",
    "# Create labels for MonetaryValue\n",
    "m_labels = range(1, 5)\n",
    "# Assign these labels to three equal percentile groups \n",
    "m_groups = pd.qcut(customers['MonetaryValue'], q=4, labels=m_labels)\n",
    "# Create new column M\n",
    "customers = customers.assign(M_Score = m_groups.values)\n",
    "customers.head()"
   ]
  },
  {
   "cell_type": "code",
   "execution_count": 10,
   "metadata": {
    "scrolled": true
   },
   "outputs": [
    {
     "data": {
      "text/html": [
       "<div>\n",
       "<style scoped>\n",
       "    .dataframe tbody tr th:only-of-type {\n",
       "        vertical-align: middle;\n",
       "    }\n",
       "\n",
       "    .dataframe tbody tr th {\n",
       "        vertical-align: top;\n",
       "    }\n",
       "\n",
       "    .dataframe thead th {\n",
       "        text-align: right;\n",
       "    }\n",
       "</style>\n",
       "<table border=\"1\" class=\"dataframe\">\n",
       "  <thead>\n",
       "    <tr style=\"text-align: right;\">\n",
       "      <th></th>\n",
       "      <th>Recency</th>\n",
       "      <th>Frequency</th>\n",
       "      <th>MonetaryValue</th>\n",
       "      <th>R_Score</th>\n",
       "      <th>F_Score</th>\n",
       "      <th>M_Score</th>\n",
       "      <th>RFM_Score</th>\n",
       "    </tr>\n",
       "    <tr>\n",
       "      <th>customerId</th>\n",
       "      <th></th>\n",
       "      <th></th>\n",
       "      <th></th>\n",
       "      <th></th>\n",
       "      <th></th>\n",
       "      <th></th>\n",
       "      <th></th>\n",
       "    </tr>\n",
       "  </thead>\n",
       "  <tbody>\n",
       "    <tr>\n",
       "      <th>fe51c153-fbec-4b64-9b00-2530035ef0e1_00004760-8e07-4751-a84d-7b915d9066a2</th>\n",
       "      <td>1</td>\n",
       "      <td>61</td>\n",
       "      <td>17271.44</td>\n",
       "      <td>4</td>\n",
       "      <td>4</td>\n",
       "      <td>4</td>\n",
       "      <td>444</td>\n",
       "    </tr>\n",
       "    <tr>\n",
       "      <th>fe51c153-fbec-4b64-9b00-2530035ef0e1_000d112c-153b-4265-8145-9df1e472d08f</th>\n",
       "      <td>22</td>\n",
       "      <td>23</td>\n",
       "      <td>4289.16</td>\n",
       "      <td>1</td>\n",
       "      <td>4</td>\n",
       "      <td>1</td>\n",
       "      <td>141</td>\n",
       "    </tr>\n",
       "    <tr>\n",
       "      <th>fe51c153-fbec-4b64-9b00-2530035ef0e1_000f6f85-533f-4ee9-8fbd-46c06e9514ef</th>\n",
       "      <td>10</td>\n",
       "      <td>12</td>\n",
       "      <td>336.00</td>\n",
       "      <td>3</td>\n",
       "      <td>2</td>\n",
       "      <td>1</td>\n",
       "      <td>321</td>\n",
       "    </tr>\n",
       "    <tr>\n",
       "      <th>fe51c153-fbec-4b64-9b00-2530035ef0e1_00155381-9a03-4624-bd14-aca494a734aa</th>\n",
       "      <td>19</td>\n",
       "      <td>4</td>\n",
       "      <td>856.23</td>\n",
       "      <td>2</td>\n",
       "      <td>1</td>\n",
       "      <td>1</td>\n",
       "      <td>211</td>\n",
       "    </tr>\n",
       "    <tr>\n",
       "      <th>fe51c153-fbec-4b64-9b00-2530035ef0e1_001588f9-484e-4406-973b-947e4fdb8ce4</th>\n",
       "      <td>1</td>\n",
       "      <td>9</td>\n",
       "      <td>14697.94</td>\n",
       "      <td>4</td>\n",
       "      <td>1</td>\n",
       "      <td>3</td>\n",
       "      <td>413</td>\n",
       "    </tr>\n",
       "  </tbody>\n",
       "</table>\n",
       "</div>"
      ],
      "text/plain": [
       "                                                    Recency  Frequency  \\\n",
       "customerId                                                               \n",
       "fe51c153-fbec-4b64-9b00-2530035ef0e1_00004760-8...        1         61   \n",
       "fe51c153-fbec-4b64-9b00-2530035ef0e1_000d112c-1...       22         23   \n",
       "fe51c153-fbec-4b64-9b00-2530035ef0e1_000f6f85-5...       10         12   \n",
       "fe51c153-fbec-4b64-9b00-2530035ef0e1_00155381-9...       19          4   \n",
       "fe51c153-fbec-4b64-9b00-2530035ef0e1_001588f9-4...        1          9   \n",
       "\n",
       "                                                    MonetaryValue R_Score  \\\n",
       "customerId                                                                  \n",
       "fe51c153-fbec-4b64-9b00-2530035ef0e1_00004760-8...       17271.44       4   \n",
       "fe51c153-fbec-4b64-9b00-2530035ef0e1_000d112c-1...        4289.16       1   \n",
       "fe51c153-fbec-4b64-9b00-2530035ef0e1_000f6f85-5...         336.00       3   \n",
       "fe51c153-fbec-4b64-9b00-2530035ef0e1_00155381-9...         856.23       2   \n",
       "fe51c153-fbec-4b64-9b00-2530035ef0e1_001588f9-4...       14697.94       4   \n",
       "\n",
       "                                                   F_Score M_Score RFM_Score  \n",
       "customerId                                                                    \n",
       "fe51c153-fbec-4b64-9b00-2530035ef0e1_00004760-8...       4       4       444  \n",
       "fe51c153-fbec-4b64-9b00-2530035ef0e1_000d112c-1...       4       1       141  \n",
       "fe51c153-fbec-4b64-9b00-2530035ef0e1_000f6f85-5...       2       1       321  \n",
       "fe51c153-fbec-4b64-9b00-2530035ef0e1_00155381-9...       1       1       211  \n",
       "fe51c153-fbec-4b64-9b00-2530035ef0e1_001588f9-4...       1       3       413  "
      ]
     },
     "execution_count": 10,
     "metadata": {},
     "output_type": "execute_result"
    }
   ],
   "source": [
    "#Adding R,F,M Scores to one new column\n",
    "customers['RFM_Score'] = customers.R_Score.astype(str)+ customers.F_Score.astype(str) + customers.M_Score.astype(str)\n",
    "customers.head()"
   ]
  },
  {
   "cell_type": "code",
   "execution_count": 11,
   "metadata": {},
   "outputs": [
    {
     "data": {
      "text/plain": [
       "64"
      ]
     },
     "execution_count": 11,
     "metadata": {},
     "output_type": "execute_result"
    }
   ],
   "source": [
    "customers['RFM_Score'].nunique()\n",
    "#len(customers_fix['RFM_Score'].unique())"
   ]
  },
  {
   "cell_type": "code",
   "execution_count": 12,
   "metadata": {},
   "outputs": [
    {
     "data": {
      "text/plain": [
       "array([12,  6,  4,  8,  7, 11, 10,  9,  3,  5], dtype=int64)"
      ]
     },
     "execution_count": 12,
     "metadata": {},
     "output_type": "execute_result"
    }
   ],
   "source": [
    "customers['RFM_Total_Score'] = customers[['R_Score','F_Score','M_Score']].sum(axis=1)\n",
    "customers['RFM_Total_Score'].unique()"
   ]
  },
  {
   "cell_type": "code",
   "execution_count": 13,
   "metadata": {},
   "outputs": [
    {
     "data": {
      "text/html": [
       "<div>\n",
       "<style scoped>\n",
       "    .dataframe tbody tr th:only-of-type {\n",
       "        vertical-align: middle;\n",
       "    }\n",
       "\n",
       "    .dataframe tbody tr th {\n",
       "        vertical-align: top;\n",
       "    }\n",
       "\n",
       "    .dataframe thead th {\n",
       "        text-align: right;\n",
       "    }\n",
       "</style>\n",
       "<table border=\"1\" class=\"dataframe\">\n",
       "  <thead>\n",
       "    <tr style=\"text-align: right;\">\n",
       "      <th></th>\n",
       "      <th>Recency</th>\n",
       "      <th>Frequency</th>\n",
       "      <th>MonetaryValue</th>\n",
       "      <th>R_Score</th>\n",
       "      <th>F_Score</th>\n",
       "      <th>M_Score</th>\n",
       "      <th>RFM_Score</th>\n",
       "      <th>RFM_Total_Score</th>\n",
       "    </tr>\n",
       "    <tr>\n",
       "      <th>customerId</th>\n",
       "      <th></th>\n",
       "      <th></th>\n",
       "      <th></th>\n",
       "      <th></th>\n",
       "      <th></th>\n",
       "      <th></th>\n",
       "      <th></th>\n",
       "      <th></th>\n",
       "    </tr>\n",
       "  </thead>\n",
       "  <tbody>\n",
       "    <tr>\n",
       "      <th>fe51c153-fbec-4b64-9b00-2530035ef0e1_efbc524e-75f8-46f0-8de8-7307fe598a79</th>\n",
       "      <td>112</td>\n",
       "      <td>4</td>\n",
       "      <td>4285.2705</td>\n",
       "      <td>1</td>\n",
       "      <td>1</td>\n",
       "      <td>1</td>\n",
       "      <td>111</td>\n",
       "      <td>3</td>\n",
       "    </tr>\n",
       "    <tr>\n",
       "      <th>fe51c153-fbec-4b64-9b00-2530035ef0e1_3a3d6873-4a33-4263-88ad-c803a411ed03</th>\n",
       "      <td>46</td>\n",
       "      <td>8</td>\n",
       "      <td>4265.8200</td>\n",
       "      <td>1</td>\n",
       "      <td>1</td>\n",
       "      <td>1</td>\n",
       "      <td>111</td>\n",
       "      <td>3</td>\n",
       "    </tr>\n",
       "    <tr>\n",
       "      <th>fe51c153-fbec-4b64-9b00-2530035ef0e1_3ff126e7-4f7e-43e5-9ffe-dfd2538574a0</th>\n",
       "      <td>50</td>\n",
       "      <td>5</td>\n",
       "      <td>4221.5161</td>\n",
       "      <td>1</td>\n",
       "      <td>1</td>\n",
       "      <td>1</td>\n",
       "      <td>111</td>\n",
       "      <td>3</td>\n",
       "    </tr>\n",
       "    <tr>\n",
       "      <th>fe51c153-fbec-4b64-9b00-2530035ef0e1_c32191ae-daf2-496b-9213-a451d506597e</th>\n",
       "      <td>109</td>\n",
       "      <td>6</td>\n",
       "      <td>4204.9710</td>\n",
       "      <td>1</td>\n",
       "      <td>1</td>\n",
       "      <td>1</td>\n",
       "      <td>111</td>\n",
       "      <td>3</td>\n",
       "    </tr>\n",
       "    <tr>\n",
       "      <th>fe51c153-fbec-4b64-9b00-2530035ef0e1_cdc27c34-89c3-4784-add1-cd16c1841735</th>\n",
       "      <td>91</td>\n",
       "      <td>5</td>\n",
       "      <td>4176.9690</td>\n",
       "      <td>1</td>\n",
       "      <td>1</td>\n",
       "      <td>1</td>\n",
       "      <td>111</td>\n",
       "      <td>3</td>\n",
       "    </tr>\n",
       "    <tr>\n",
       "      <th>fe51c153-fbec-4b64-9b00-2530035ef0e1_42c429e8-e17d-4765-a137-1058e99c6a0f</th>\n",
       "      <td>50</td>\n",
       "      <td>4</td>\n",
       "      <td>4153.9600</td>\n",
       "      <td>1</td>\n",
       "      <td>1</td>\n",
       "      <td>1</td>\n",
       "      <td>111</td>\n",
       "      <td>3</td>\n",
       "    </tr>\n",
       "    <tr>\n",
       "      <th>fe51c153-fbec-4b64-9b00-2530035ef0e1_4dc0d594-dca5-4280-bbfc-5238993f2302</th>\n",
       "      <td>142</td>\n",
       "      <td>3</td>\n",
       "      <td>4153.7910</td>\n",
       "      <td>1</td>\n",
       "      <td>1</td>\n",
       "      <td>1</td>\n",
       "      <td>111</td>\n",
       "      <td>3</td>\n",
       "    </tr>\n",
       "    <tr>\n",
       "      <th>fe51c153-fbec-4b64-9b00-2530035ef0e1_90d7da36-c33b-4bb9-ab33-6300a21e2367</th>\n",
       "      <td>26</td>\n",
       "      <td>8</td>\n",
       "      <td>4118.0000</td>\n",
       "      <td>1</td>\n",
       "      <td>1</td>\n",
       "      <td>1</td>\n",
       "      <td>111</td>\n",
       "      <td>3</td>\n",
       "    </tr>\n",
       "    <tr>\n",
       "      <th>fe51c153-fbec-4b64-9b00-2530035ef0e1_3042d2bc-5530-4705-9115-30ac82d270f2</th>\n",
       "      <td>54</td>\n",
       "      <td>10</td>\n",
       "      <td>4100.8200</td>\n",
       "      <td>1</td>\n",
       "      <td>1</td>\n",
       "      <td>1</td>\n",
       "      <td>111</td>\n",
       "      <td>3</td>\n",
       "    </tr>\n",
       "    <tr>\n",
       "      <th>fe51c153-fbec-4b64-9b00-2530035ef0e1_ec8f39a4-828f-45e7-bc4a-567eb698e2d9</th>\n",
       "      <td>50</td>\n",
       "      <td>7</td>\n",
       "      <td>4098.5200</td>\n",
       "      <td>1</td>\n",
       "      <td>1</td>\n",
       "      <td>1</td>\n",
       "      <td>111</td>\n",
       "      <td>3</td>\n",
       "    </tr>\n",
       "  </tbody>\n",
       "</table>\n",
       "</div>"
      ],
      "text/plain": [
       "                                                    Recency  Frequency  \\\n",
       "customerId                                                               \n",
       "fe51c153-fbec-4b64-9b00-2530035ef0e1_efbc524e-7...      112          4   \n",
       "fe51c153-fbec-4b64-9b00-2530035ef0e1_3a3d6873-4...       46          8   \n",
       "fe51c153-fbec-4b64-9b00-2530035ef0e1_3ff126e7-4...       50          5   \n",
       "fe51c153-fbec-4b64-9b00-2530035ef0e1_c32191ae-d...      109          6   \n",
       "fe51c153-fbec-4b64-9b00-2530035ef0e1_cdc27c34-8...       91          5   \n",
       "fe51c153-fbec-4b64-9b00-2530035ef0e1_42c429e8-e...       50          4   \n",
       "fe51c153-fbec-4b64-9b00-2530035ef0e1_4dc0d594-d...      142          3   \n",
       "fe51c153-fbec-4b64-9b00-2530035ef0e1_90d7da36-c...       26          8   \n",
       "fe51c153-fbec-4b64-9b00-2530035ef0e1_3042d2bc-5...       54         10   \n",
       "fe51c153-fbec-4b64-9b00-2530035ef0e1_ec8f39a4-8...       50          7   \n",
       "\n",
       "                                                    MonetaryValue R_Score  \\\n",
       "customerId                                                                  \n",
       "fe51c153-fbec-4b64-9b00-2530035ef0e1_efbc524e-7...      4285.2705       1   \n",
       "fe51c153-fbec-4b64-9b00-2530035ef0e1_3a3d6873-4...      4265.8200       1   \n",
       "fe51c153-fbec-4b64-9b00-2530035ef0e1_3ff126e7-4...      4221.5161       1   \n",
       "fe51c153-fbec-4b64-9b00-2530035ef0e1_c32191ae-d...      4204.9710       1   \n",
       "fe51c153-fbec-4b64-9b00-2530035ef0e1_cdc27c34-8...      4176.9690       1   \n",
       "fe51c153-fbec-4b64-9b00-2530035ef0e1_42c429e8-e...      4153.9600       1   \n",
       "fe51c153-fbec-4b64-9b00-2530035ef0e1_4dc0d594-d...      4153.7910       1   \n",
       "fe51c153-fbec-4b64-9b00-2530035ef0e1_90d7da36-c...      4118.0000       1   \n",
       "fe51c153-fbec-4b64-9b00-2530035ef0e1_3042d2bc-5...      4100.8200       1   \n",
       "fe51c153-fbec-4b64-9b00-2530035ef0e1_ec8f39a4-8...      4098.5200       1   \n",
       "\n",
       "                                                   F_Score M_Score RFM_Score  \\\n",
       "customerId                                                                     \n",
       "fe51c153-fbec-4b64-9b00-2530035ef0e1_efbc524e-7...       1       1       111   \n",
       "fe51c153-fbec-4b64-9b00-2530035ef0e1_3a3d6873-4...       1       1       111   \n",
       "fe51c153-fbec-4b64-9b00-2530035ef0e1_3ff126e7-4...       1       1       111   \n",
       "fe51c153-fbec-4b64-9b00-2530035ef0e1_c32191ae-d...       1       1       111   \n",
       "fe51c153-fbec-4b64-9b00-2530035ef0e1_cdc27c34-8...       1       1       111   \n",
       "fe51c153-fbec-4b64-9b00-2530035ef0e1_42c429e8-e...       1       1       111   \n",
       "fe51c153-fbec-4b64-9b00-2530035ef0e1_4dc0d594-d...       1       1       111   \n",
       "fe51c153-fbec-4b64-9b00-2530035ef0e1_90d7da36-c...       1       1       111   \n",
       "fe51c153-fbec-4b64-9b00-2530035ef0e1_3042d2bc-5...       1       1       111   \n",
       "fe51c153-fbec-4b64-9b00-2530035ef0e1_ec8f39a4-8...       1       1       111   \n",
       "\n",
       "                                                    RFM_Total_Score  \n",
       "customerId                                                           \n",
       "fe51c153-fbec-4b64-9b00-2530035ef0e1_efbc524e-7...                3  \n",
       "fe51c153-fbec-4b64-9b00-2530035ef0e1_3a3d6873-4...                3  \n",
       "fe51c153-fbec-4b64-9b00-2530035ef0e1_3ff126e7-4...                3  \n",
       "fe51c153-fbec-4b64-9b00-2530035ef0e1_c32191ae-d...                3  \n",
       "fe51c153-fbec-4b64-9b00-2530035ef0e1_cdc27c34-8...                3  \n",
       "fe51c153-fbec-4b64-9b00-2530035ef0e1_42c429e8-e...                3  \n",
       "fe51c153-fbec-4b64-9b00-2530035ef0e1_4dc0d594-d...                3  \n",
       "fe51c153-fbec-4b64-9b00-2530035ef0e1_90d7da36-c...                3  \n",
       "fe51c153-fbec-4b64-9b00-2530035ef0e1_3042d2bc-5...                3  \n",
       "fe51c153-fbec-4b64-9b00-2530035ef0e1_ec8f39a4-8...                3  "
      ]
     },
     "execution_count": 13,
     "metadata": {},
     "output_type": "execute_result"
    }
   ],
   "source": [
    "customers[customers['RFM_Score']=='111'].sort_values('MonetaryValue', ascending=False).head(10)"
   ]
  },
  {
   "cell_type": "code",
   "execution_count": 14,
   "metadata": {},
   "outputs": [],
   "source": [
    "# Define rfm_level function\n",
    "def rfm_level(df):\n",
    "    if df['RFM_Total_Score'] >= 9:\n",
    "        return 'Can\\'t Loose Them'\n",
    "    elif ((df['RFM_Total_Score'] >= 8) and (df['RFM_Total_Score'] < 9)):\n",
    "        return 'Champions'\n",
    "    elif ((df['RFM_Total_Score'] >= 7) and (df['RFM_Total_Score'] < 8)):\n",
    "        return 'Loyal'\n",
    "    elif ((df['RFM_Total_Score'] >= 6) and (df['RFM_Total_Score'] < 7)):\n",
    "        return 'Potential'\n",
    "    elif ((df['RFM_Total_Score'] >= 5) and (df['RFM_Total_Score'] < 6)):\n",
    "        return 'Promising'\n",
    "    elif ((df['RFM_Total_Score'] >= 4) and (df['RFM_Total_Score'] < 5)):\n",
    "        return 'Needs Attention'\n",
    "    else:\n",
    "        return 'Lost'\n"
   ]
  },
  {
   "cell_type": "code",
   "execution_count": 15,
   "metadata": {},
   "outputs": [
    {
     "data": {
      "text/html": [
       "<div>\n",
       "<style scoped>\n",
       "    .dataframe tbody tr th:only-of-type {\n",
       "        vertical-align: middle;\n",
       "    }\n",
       "\n",
       "    .dataframe tbody tr th {\n",
       "        vertical-align: top;\n",
       "    }\n",
       "\n",
       "    .dataframe thead th {\n",
       "        text-align: right;\n",
       "    }\n",
       "</style>\n",
       "<table border=\"1\" class=\"dataframe\">\n",
       "  <thead>\n",
       "    <tr style=\"text-align: right;\">\n",
       "      <th></th>\n",
       "      <th>Recency</th>\n",
       "      <th>Frequency</th>\n",
       "      <th>MonetaryValue</th>\n",
       "      <th>R_Score</th>\n",
       "      <th>F_Score</th>\n",
       "      <th>M_Score</th>\n",
       "      <th>RFM_Score</th>\n",
       "      <th>RFM_Total_Score</th>\n",
       "      <th>Customer_Segmentation</th>\n",
       "    </tr>\n",
       "    <tr>\n",
       "      <th>customerId</th>\n",
       "      <th></th>\n",
       "      <th></th>\n",
       "      <th></th>\n",
       "      <th></th>\n",
       "      <th></th>\n",
       "      <th></th>\n",
       "      <th></th>\n",
       "      <th></th>\n",
       "      <th></th>\n",
       "    </tr>\n",
       "  </thead>\n",
       "  <tbody>\n",
       "    <tr>\n",
       "      <th>fe51c153-fbec-4b64-9b00-2530035ef0e1_00004760-8e07-4751-a84d-7b915d9066a2</th>\n",
       "      <td>1</td>\n",
       "      <td>61</td>\n",
       "      <td>17271.44</td>\n",
       "      <td>4</td>\n",
       "      <td>4</td>\n",
       "      <td>4</td>\n",
       "      <td>444</td>\n",
       "      <td>12</td>\n",
       "      <td>Can't Loose Them</td>\n",
       "    </tr>\n",
       "    <tr>\n",
       "      <th>fe51c153-fbec-4b64-9b00-2530035ef0e1_000d112c-153b-4265-8145-9df1e472d08f</th>\n",
       "      <td>22</td>\n",
       "      <td>23</td>\n",
       "      <td>4289.16</td>\n",
       "      <td>1</td>\n",
       "      <td>4</td>\n",
       "      <td>1</td>\n",
       "      <td>141</td>\n",
       "      <td>6</td>\n",
       "      <td>Potential</td>\n",
       "    </tr>\n",
       "    <tr>\n",
       "      <th>fe51c153-fbec-4b64-9b00-2530035ef0e1_000f6f85-533f-4ee9-8fbd-46c06e9514ef</th>\n",
       "      <td>10</td>\n",
       "      <td>12</td>\n",
       "      <td>336.00</td>\n",
       "      <td>3</td>\n",
       "      <td>2</td>\n",
       "      <td>1</td>\n",
       "      <td>321</td>\n",
       "      <td>6</td>\n",
       "      <td>Potential</td>\n",
       "    </tr>\n",
       "    <tr>\n",
       "      <th>fe51c153-fbec-4b64-9b00-2530035ef0e1_00155381-9a03-4624-bd14-aca494a734aa</th>\n",
       "      <td>19</td>\n",
       "      <td>4</td>\n",
       "      <td>856.23</td>\n",
       "      <td>2</td>\n",
       "      <td>1</td>\n",
       "      <td>1</td>\n",
       "      <td>211</td>\n",
       "      <td>4</td>\n",
       "      <td>Needs Attention</td>\n",
       "    </tr>\n",
       "    <tr>\n",
       "      <th>fe51c153-fbec-4b64-9b00-2530035ef0e1_001588f9-484e-4406-973b-947e4fdb8ce4</th>\n",
       "      <td>1</td>\n",
       "      <td>9</td>\n",
       "      <td>14697.94</td>\n",
       "      <td>4</td>\n",
       "      <td>1</td>\n",
       "      <td>3</td>\n",
       "      <td>413</td>\n",
       "      <td>8</td>\n",
       "      <td>Champions</td>\n",
       "    </tr>\n",
       "  </tbody>\n",
       "</table>\n",
       "</div>"
      ],
      "text/plain": [
       "                                                    Recency  Frequency  \\\n",
       "customerId                                                               \n",
       "fe51c153-fbec-4b64-9b00-2530035ef0e1_00004760-8...        1         61   \n",
       "fe51c153-fbec-4b64-9b00-2530035ef0e1_000d112c-1...       22         23   \n",
       "fe51c153-fbec-4b64-9b00-2530035ef0e1_000f6f85-5...       10         12   \n",
       "fe51c153-fbec-4b64-9b00-2530035ef0e1_00155381-9...       19          4   \n",
       "fe51c153-fbec-4b64-9b00-2530035ef0e1_001588f9-4...        1          9   \n",
       "\n",
       "                                                    MonetaryValue R_Score  \\\n",
       "customerId                                                                  \n",
       "fe51c153-fbec-4b64-9b00-2530035ef0e1_00004760-8...       17271.44       4   \n",
       "fe51c153-fbec-4b64-9b00-2530035ef0e1_000d112c-1...        4289.16       1   \n",
       "fe51c153-fbec-4b64-9b00-2530035ef0e1_000f6f85-5...         336.00       3   \n",
       "fe51c153-fbec-4b64-9b00-2530035ef0e1_00155381-9...         856.23       2   \n",
       "fe51c153-fbec-4b64-9b00-2530035ef0e1_001588f9-4...       14697.94       4   \n",
       "\n",
       "                                                   F_Score M_Score RFM_Score  \\\n",
       "customerId                                                                     \n",
       "fe51c153-fbec-4b64-9b00-2530035ef0e1_00004760-8...       4       4       444   \n",
       "fe51c153-fbec-4b64-9b00-2530035ef0e1_000d112c-1...       4       1       141   \n",
       "fe51c153-fbec-4b64-9b00-2530035ef0e1_000f6f85-5...       2       1       321   \n",
       "fe51c153-fbec-4b64-9b00-2530035ef0e1_00155381-9...       1       1       211   \n",
       "fe51c153-fbec-4b64-9b00-2530035ef0e1_001588f9-4...       1       3       413   \n",
       "\n",
       "                                                    RFM_Total_Score  \\\n",
       "customerId                                                            \n",
       "fe51c153-fbec-4b64-9b00-2530035ef0e1_00004760-8...               12   \n",
       "fe51c153-fbec-4b64-9b00-2530035ef0e1_000d112c-1...                6   \n",
       "fe51c153-fbec-4b64-9b00-2530035ef0e1_000f6f85-5...                6   \n",
       "fe51c153-fbec-4b64-9b00-2530035ef0e1_00155381-9...                4   \n",
       "fe51c153-fbec-4b64-9b00-2530035ef0e1_001588f9-4...                8   \n",
       "\n",
       "                                                   Customer_Segmentation  \n",
       "customerId                                                                \n",
       "fe51c153-fbec-4b64-9b00-2530035ef0e1_00004760-8...      Can't Loose Them  \n",
       "fe51c153-fbec-4b64-9b00-2530035ef0e1_000d112c-1...             Potential  \n",
       "fe51c153-fbec-4b64-9b00-2530035ef0e1_000f6f85-5...             Potential  \n",
       "fe51c153-fbec-4b64-9b00-2530035ef0e1_00155381-9...       Needs Attention  \n",
       "fe51c153-fbec-4b64-9b00-2530035ef0e1_001588f9-4...             Champions  "
      ]
     },
     "execution_count": 15,
     "metadata": {},
     "output_type": "execute_result"
    }
   ],
   "source": [
    "# Create a new variable RFM_Level\n",
    "customers['Customer_Segmentation'] = customers.apply(rfm_level, axis=1)\n",
    "# Print the header with top 5 rows to the console\n",
    "customers.head()"
   ]
  },
  {
   "cell_type": "code",
   "execution_count": 16,
   "metadata": {},
   "outputs": [
    {
     "data": {
      "image/png": "[encoded data removed]",
      "text/plain": [
       "<Figure size 720x720 with 1 Axes>"
      ]
     },
     "metadata": {},
     "output_type": "display_data"
    }
   ],
   "source": [
    "# Calculate average values for each RFM_Level, and return a size of each segment \n",
    "customers['Customer_Segmentation'].value_counts().plot.pie(figsize=(10,10),\n",
    "                                        startangle=0, explode=(0,0,0,0,0,0,0.1),autopct='%.1f',shadow=True)\n",
    "plt.title(\"Customer Segmentation\",size=15)\n",
    "plt.ylabel(\" \")\n",
    "plt.axis('equal') \n",
    "# save\n",
    "#plt.savefig('customer_segmentation.png')\n",
    "plt.show()"
   ]
  },
  {
   "cell_type": "code",
   "execution_count": 17,
   "metadata": {},
   "outputs": [],
   "source": [
    "from scipy import stats\n",
    "def analyze_skewness(x):\n",
    "    fig, ax = plt.subplots(2, 2, figsize=(5,5))\n",
    "    sns.distplot(customers[x], ax=ax[0,0])\n",
    "    sns.distplot(np.log(customers[x]), ax=ax[0,1])\n",
    "    sns.distplot(np.sqrt(customers[x]), ax=ax[1,0])\n",
    "    sns.distplot(stats.boxcox(customers[x])[0], ax=ax[1,1])\n",
    "    plt.tight_layout()\n",
    "    plt.show()\n",
    "    \n",
    "    print(customers[x].skew().round(2))\n",
    "    print(np.log(customers[x]).skew().round(2))\n",
    "    print(np.sqrt(customers[x]).skew().round(2))\n",
    "    print(pd.Series(stats.boxcox(customers[x])[0]).skew().round(2))"
   ]
  },
  {
   "cell_type": "code",
   "execution_count": 18,
   "metadata": {},
   "outputs": [
    {
     "data": {
      "application/javascript": [
       "\n",
       "        if (window._pyforest_update_imports_cell) { window._pyforest_update_imports_cell('import numpy as np\\nimport seaborn as sns'); }\n",
       "    "
      ],
      "text/plain": [
       "<IPython.core.display.Javascript object>"
      ]
     },
     "metadata": {},
     "output_type": "display_data"
    },
    {
     "data": {
      "application/javascript": [
       "\n",
       "        if (window._pyforest_update_imports_cell) { window._pyforest_update_imports_cell('import numpy as np\\nimport seaborn as sns'); }\n",
       "    "
      ],
      "text/plain": [
       "<IPython.core.display.Javascript object>"
      ]
     },
     "metadata": {},
     "output_type": "display_data"
    },
    {
     "data": {
      "application/javascript": [
       "\n",
       "        if (window._pyforest_update_imports_cell) { window._pyforest_update_imports_cell('import numpy as np\\nimport seaborn as sns'); }\n",
       "    "
      ],
      "text/plain": [
       "<IPython.core.display.Javascript object>"
      ]
     },
     "metadata": {},
     "output_type": "display_data"
    },
    {
     "data": {
      "application/javascript": [
       "\n",
       "        if (window._pyforest_update_imports_cell) { window._pyforest_update_imports_cell('import numpy as np\\nimport seaborn as sns'); }\n",
       "    "
      ],
      "text/plain": [
       "<IPython.core.display.Javascript object>"
      ]
     },
     "metadata": {},
     "output_type": "display_data"
    },
    {
     "data": {
      "application/javascript": [
       "\n",
       "        if (window._pyforest_update_imports_cell) { window._pyforest_update_imports_cell('import numpy as np\\nimport seaborn as sns'); }\n",
       "    "
      ],
      "text/plain": [
       "<IPython.core.display.Javascript object>"
      ]
     },
     "metadata": {},
     "output_type": "display_data"
    },
    {
     "data": {
      "application/javascript": [
       "\n",
       "        if (window._pyforest_update_imports_cell) { window._pyforest_update_imports_cell('import numpy as np\\nimport seaborn as sns'); }\n",
       "    "
      ],
      "text/plain": [
       "<IPython.core.display.Javascript object>"
      ]
     },
     "metadata": {},
     "output_type": "display_data"
    },
    {
     "data": {
      "image/png": "[encoded data removed]",
      "text/plain": [
       "<Figure size 360x360 with 4 Axes>"
      ]
     },
     "metadata": {
      "needs_background": "light"
     },
     "output_type": "display_data"
    },
    {
     "name": "stdout",
     "output_type": "stream",
     "text": [
      "3.47\n"
     ]
    },
    {
     "data": {
      "application/javascript": [
       "\n",
       "        if (window._pyforest_update_imports_cell) { window._pyforest_update_imports_cell('import numpy as np\\nimport seaborn as sns'); }\n",
       "    "
      ],
      "text/plain": [
       "<IPython.core.display.Javascript object>"
      ]
     },
     "metadata": {},
     "output_type": "display_data"
    },
    {
     "name": "stdout",
     "output_type": "stream",
     "text": [
      "0.01\n"
     ]
    },
    {
     "data": {
      "application/javascript": [
       "\n",
       "        if (window._pyforest_update_imports_cell) { window._pyforest_update_imports_cell('import numpy as np\\nimport seaborn as sns'); }\n",
       "    "
      ],
      "text/plain": [
       "<IPython.core.display.Javascript object>"
      ]
     },
     "metadata": {},
     "output_type": "display_data"
    },
    {
     "name": "stdout",
     "output_type": "stream",
     "text": [
      "1.36\n",
      "0.0\n"
     ]
    }
   ],
   "source": [
    "analyze_skewness('Recency')"
   ]
  },
  {
   "cell_type": "code",
   "execution_count": 19,
   "metadata": {},
   "outputs": [
    {
     "data": {
      "application/javascript": [
       "\n",
       "        if (window._pyforest_update_imports_cell) { window._pyforest_update_imports_cell('import numpy as np\\nimport seaborn as sns'); }\n",
       "    "
      ],
      "text/plain": [
       "<IPython.core.display.Javascript object>"
      ]
     },
     "metadata": {},
     "output_type": "display_data"
    },
    {
     "data": {
      "application/javascript": [
       "\n",
       "        if (window._pyforest_update_imports_cell) { window._pyforest_update_imports_cell('import numpy as np\\nimport seaborn as sns'); }\n",
       "    "
      ],
      "text/plain": [
       "<IPython.core.display.Javascript object>"
      ]
     },
     "metadata": {},
     "output_type": "display_data"
    },
    {
     "data": {
      "application/javascript": [
       "\n",
       "        if (window._pyforest_update_imports_cell) { window._pyforest_update_imports_cell('import numpy as np\\nimport seaborn as sns'); }\n",
       "    "
      ],
      "text/plain": [
       "<IPython.core.display.Javascript object>"
      ]
     },
     "metadata": {},
     "output_type": "display_data"
    },
    {
     "data": {
      "application/javascript": [
       "\n",
       "        if (window._pyforest_update_imports_cell) { window._pyforest_update_imports_cell('import numpy as np\\nimport seaborn as sns'); }\n",
       "    "
      ],
      "text/plain": [
       "<IPython.core.display.Javascript object>"
      ]
     },
     "metadata": {},
     "output_type": "display_data"
    },
    {
     "data": {
      "application/javascript": [
       "\n",
       "        if (window._pyforest_update_imports_cell) { window._pyforest_update_imports_cell('import numpy as np\\nimport seaborn as sns'); }\n",
       "    "
      ],
      "text/plain": [
       "<IPython.core.display.Javascript object>"
      ]
     },
     "metadata": {},
     "output_type": "display_data"
    },
    {
     "data": {
      "application/javascript": [
       "\n",
       "        if (window._pyforest_update_imports_cell) { window._pyforest_update_imports_cell('import numpy as np\\nimport seaborn as sns'); }\n",
       "    "
      ],
      "text/plain": [
       "<IPython.core.display.Javascript object>"
      ]
     },
     "metadata": {},
     "output_type": "display_data"
    },
    {
     "data": {
      "image/png": "[encoded data removed]",
      "text/plain": [
       "<Figure size 360x360 with 4 Axes>"
      ]
     },
     "metadata": {
      "needs_background": "light"
     },
     "output_type": "display_data"
    },
    {
     "name": "stdout",
     "output_type": "stream",
     "text": [
      "1.39\n"
     ]
    },
    {
     "data": {
      "application/javascript": [
       "\n",
       "        if (window._pyforest_update_imports_cell) { window._pyforest_update_imports_cell('import numpy as np\\nimport seaborn as sns'); }\n",
       "    "
      ],
      "text/plain": [
       "<IPython.core.display.Javascript object>"
      ]
     },
     "metadata": {},
     "output_type": "display_data"
    },
    {
     "name": "stdout",
     "output_type": "stream",
     "text": [
      "-0.73\n"
     ]
    },
    {
     "data": {
      "application/javascript": [
       "\n",
       "        if (window._pyforest_update_imports_cell) { window._pyforest_update_imports_cell('import numpy as np\\nimport seaborn as sns'); }\n",
       "    "
      ],
      "text/plain": [
       "<IPython.core.display.Javascript object>"
      ]
     },
     "metadata": {},
     "output_type": "display_data"
    },
    {
     "name": "stdout",
     "output_type": "stream",
     "text": [
      "0.53\n",
      "0.04\n"
     ]
    }
   ],
   "source": [
    "analyze_skewness('Frequency')"
   ]
  },
  {
   "cell_type": "code",
   "execution_count": 20,
   "metadata": {},
   "outputs": [
    {
     "data": {
      "application/javascript": [
       "\n",
       "        if (window._pyforest_update_imports_cell) { window._pyforest_update_imports_cell('import numpy as np\\nimport seaborn as sns'); }\n",
       "    "
      ],
      "text/plain": [
       "<IPython.core.display.Javascript object>"
      ]
     },
     "metadata": {},
     "output_type": "display_data"
    },
    {
     "data": {
      "application/javascript": [
       "\n",
       "        if (window._pyforest_update_imports_cell) { window._pyforest_update_imports_cell('import numpy as np\\nimport seaborn as sns'); }\n",
       "    "
      ],
      "text/plain": [
       "<IPython.core.display.Javascript object>"
      ]
     },
     "metadata": {},
     "output_type": "display_data"
    },
    {
     "data": {
      "application/javascript": [
       "\n",
       "        if (window._pyforest_update_imports_cell) { window._pyforest_update_imports_cell('import numpy as np\\nimport seaborn as sns'); }\n",
       "    "
      ],
      "text/plain": [
       "<IPython.core.display.Javascript object>"
      ]
     },
     "metadata": {},
     "output_type": "display_data"
    },
    {
     "data": {
      "image/png": "[encoded data removed]",
      "text/plain": [
       "<Figure size 720x216 with 2 Axes>"
      ]
     },
     "metadata": {
      "needs_background": "light"
     },
     "output_type": "display_data"
    },
    {
     "name": "stdout",
     "output_type": "stream",
     "text": [
      "3.62\n"
     ]
    },
    {
     "data": {
      "application/javascript": [
       "\n",
       "        if (window._pyforest_update_imports_cell) { window._pyforest_update_imports_cell('import numpy as np\\nimport seaborn as sns'); }\n",
       "    "
      ],
      "text/plain": [
       "<IPython.core.display.Javascript object>"
      ]
     },
     "metadata": {},
     "output_type": "display_data"
    },
    {
     "name": "stdout",
     "output_type": "stream",
     "text": [
      "0.3\n"
     ]
    }
   ],
   "source": [
    "fig, ax = plt.subplots(1, 2, figsize=(10,3))\n",
    "sns.distplot(customers['MonetaryValue'], ax=ax[0])\n",
    "sns.distplot(np.cbrt(customers['MonetaryValue']), ax=ax[1])\n",
    "plt.show()\n",
    "print(customers['MonetaryValue'].skew().round(2))\n",
    "print(np.cbrt(customers['MonetaryValue']).skew().round(2))"
   ]
  },
  {
   "cell_type": "code",
   "execution_count": 21,
   "metadata": {},
   "outputs": [
    {
     "data": {
      "application/javascript": [
       "\n",
       "        if (window._pyforest_update_imports_cell) { window._pyforest_update_imports_cell('import numpy as np\\nimport seaborn as sns'); }\n",
       "    "
      ],
      "text/plain": [
       "<IPython.core.display.Javascript object>"
      ]
     },
     "metadata": {},
     "output_type": "display_data"
    },
    {
     "data": {
      "text/html": [
       "<div>\n",
       "<style scoped>\n",
       "    .dataframe tbody tr th:only-of-type {\n",
       "        vertical-align: middle;\n",
       "    }\n",
       "\n",
       "    .dataframe tbody tr th {\n",
       "        vertical-align: top;\n",
       "    }\n",
       "\n",
       "    .dataframe thead th {\n",
       "        text-align: right;\n",
       "    }\n",
       "</style>\n",
       "<table border=\"1\" class=\"dataframe\">\n",
       "  <thead>\n",
       "    <tr style=\"text-align: right;\">\n",
       "      <th></th>\n",
       "      <th>Recency</th>\n",
       "      <th>Frequency</th>\n",
       "      <th>MonetaryValue</th>\n",
       "    </tr>\n",
       "  </thead>\n",
       "  <tbody>\n",
       "    <tr>\n",
       "      <th>5478</th>\n",
       "      <td>2.190985</td>\n",
       "      <td>4.629439</td>\n",
       "      <td>17.757667</td>\n",
       "    </tr>\n",
       "    <tr>\n",
       "      <th>5479</th>\n",
       "      <td>2.762659</td>\n",
       "      <td>4.004064</td>\n",
       "      <td>29.142815</td>\n",
       "    </tr>\n",
       "    <tr>\n",
       "      <th>5480</th>\n",
       "      <td>2.933242</td>\n",
       "      <td>2.019602</td>\n",
       "      <td>42.122965</td>\n",
       "    </tr>\n",
       "    <tr>\n",
       "      <th>5481</th>\n",
       "      <td>0.692525</td>\n",
       "      <td>3.861225</td>\n",
       "      <td>29.844959</td>\n",
       "    </tr>\n",
       "    <tr>\n",
       "      <th>5482</th>\n",
       "      <td>2.073853</td>\n",
       "      <td>4.394700</td>\n",
       "      <td>22.651137</td>\n",
       "    </tr>\n",
       "  </tbody>\n",
       "</table>\n",
       "</div>"
      ],
      "text/plain": [
       "       Recency  Frequency  MonetaryValue\n",
       "5478  2.190985   4.629439      17.757667\n",
       "5479  2.762659   4.004064      29.142815\n",
       "5480  2.933242   2.019602      42.122965\n",
       "5481  0.692525   3.861225      29.844959\n",
       "5482  2.073853   4.394700      22.651137"
      ]
     },
     "execution_count": 21,
     "metadata": {},
     "output_type": "execute_result"
    }
   ],
   "source": [
    "# Set the Numbers\n",
    "customers_fix = pd.DataFrame()\n",
    "customers_fix[\"Recency\"] = stats.boxcox(customers['Recency'])[0]\n",
    "customers_fix[\"Frequency\"] = stats.boxcox(customers['Frequency'])[0]\n",
    "customers_fix[\"MonetaryValue\"] = pd.Series(np.cbrt(customers['MonetaryValue'])).values\n",
    "customers_fix.tail()"
   ]
  },
  {
   "cell_type": "code",
   "execution_count": 22,
   "metadata": {},
   "outputs": [
    {
     "name": "stdout",
     "output_type": "stream",
     "text": [
      "[ 0.  0. -0.]\n",
      "[1. 1. 1.]\n"
     ]
    }
   ],
   "source": [
    "from sklearn.preprocessing import StandardScaler\n",
    "scaler = StandardScaler()\n",
    "scaler.fit(customers_fix)\n",
    "customers_normalized = scaler.transform(customers_fix)\n",
    "print(customers_normalized.mean(axis = 0).round(2))\n",
    "print(customers_normalized.std(axis = 0).round(2))"
   ]
  },
  {
   "cell_type": "code",
   "execution_count": 23,
   "metadata": {},
   "outputs": [
    {
     "data": {
      "text/html": [
       "<div>\n",
       "<style scoped>\n",
       "    .dataframe tbody tr th:only-of-type {\n",
       "        vertical-align: middle;\n",
       "    }\n",
       "\n",
       "    .dataframe tbody tr th {\n",
       "        vertical-align: top;\n",
       "    }\n",
       "\n",
       "    .dataframe thead th {\n",
       "        text-align: right;\n",
       "    }\n",
       "</style>\n",
       "<table border=\"1\" class=\"dataframe\">\n",
       "  <thead>\n",
       "    <tr style=\"text-align: right;\">\n",
       "      <th></th>\n",
       "      <th>0</th>\n",
       "      <th>1</th>\n",
       "      <th>2</th>\n",
       "    </tr>\n",
       "  </thead>\n",
       "  <tbody>\n",
       "    <tr>\n",
       "      <th>0</th>\n",
       "      <td>-1.721265</td>\n",
       "      <td>2.894604</td>\n",
       "      <td>0.654259</td>\n",
       "    </tr>\n",
       "    <tr>\n",
       "      <th>1</th>\n",
       "      <td>0.784518</td>\n",
       "      <td>0.776248</td>\n",
       "      <td>-0.615516</td>\n",
       "    </tr>\n",
       "    <tr>\n",
       "      <th>2</th>\n",
       "      <td>0.147252</td>\n",
       "      <td>-0.354387</td>\n",
       "      <td>-1.844865</td>\n",
       "    </tr>\n",
       "    <tr>\n",
       "      <th>3</th>\n",
       "      <td>0.666125</td>\n",
       "      <td>-1.862818</td>\n",
       "      <td>-1.508457</td>\n",
       "    </tr>\n",
       "    <tr>\n",
       "      <th>4</th>\n",
       "      <td>-1.721265</td>\n",
       "      <td>-0.793946</td>\n",
       "      <td>0.475259</td>\n",
       "    </tr>\n",
       "  </tbody>\n",
       "</table>\n",
       "</div>"
      ],
      "text/plain": [
       "          0         1         2\n",
       "0 -1.721265  2.894604  0.654259\n",
       "1  0.784518  0.776248 -0.615516\n",
       "2  0.147252 -0.354387 -1.844865\n",
       "3  0.666125 -1.862818 -1.508457\n",
       "4 -1.721265 -0.793946  0.475259"
      ]
     },
     "execution_count": 23,
     "metadata": {},
     "output_type": "execute_result"
    }
   ],
   "source": [
    "pd.DataFrame(customers_normalized).head()"
   ]
  },
  {
   "cell_type": "code",
   "execution_count": 24,
   "metadata": {},
   "outputs": [
    {
     "data": {
      "application/javascript": [
       "\n",
       "        if (window._pyforest_update_imports_cell) { window._pyforest_update_imports_cell('import numpy as np\\nimport seaborn as sns'); }\n",
       "    "
      ],
      "text/plain": [
       "<IPython.core.display.Javascript object>"
      ]
     },
     "metadata": {},
     "output_type": "display_data"
    },
    {
     "data": {
      "image/png": "[encoded data removed]",
      "text/plain": [
       "<Figure size 432x288 with 1 Axes>"
      ]
     },
     "metadata": {
      "needs_background": "light"
     },
     "output_type": "display_data"
    }
   ],
   "source": [
    "from sklearn.cluster import KMeans\n",
    "\n",
    "sse = {}\n",
    "for k in range(1, 11):\n",
    "    kmeans = KMeans(n_clusters=k, random_state=42)\n",
    "    kmeans.fit(customers_normalized)\n",
    "    sse[k] = kmeans.inertia_ # SSE to closest cluster centroid\n",
    "\n",
    "plt.title('The Elbow Method')\n",
    "plt.xlabel('k')\n",
    "plt.ylabel('SSE')\n",
    "sns.pointplot(x=list(sse.keys()), y=list(sse.values()))\n",
    "#plt.savefig(\"elbow.png\")\n",
    "plt.show()"
   ]
  },
  {
   "cell_type": "code",
   "execution_count": 25,
   "metadata": {},
   "outputs": [
    {
     "data": {
      "text/html": [
       "<div>\n",
       "<style scoped>\n",
       "    .dataframe tbody tr th:only-of-type {\n",
       "        vertical-align: middle;\n",
       "    }\n",
       "\n",
       "    .dataframe tbody tr th {\n",
       "        vertical-align: top;\n",
       "    }\n",
       "\n",
       "    .dataframe thead th {\n",
       "        text-align: right;\n",
       "    }\n",
       "</style>\n",
       "<table border=\"1\" class=\"dataframe\">\n",
       "  <thead>\n",
       "    <tr style=\"text-align: right;\">\n",
       "      <th></th>\n",
       "      <th>Recency</th>\n",
       "      <th>Frequency</th>\n",
       "      <th>MonetaryValue</th>\n",
       "      <th>R_Score</th>\n",
       "      <th>F_Score</th>\n",
       "      <th>M_Score</th>\n",
       "      <th>RFM_Score</th>\n",
       "      <th>RFM_Total_Score</th>\n",
       "      <th>Customer_Segmentation</th>\n",
       "      <th>Cluster</th>\n",
       "    </tr>\n",
       "    <tr>\n",
       "      <th>customerId</th>\n",
       "      <th></th>\n",
       "      <th></th>\n",
       "      <th></th>\n",
       "      <th></th>\n",
       "      <th></th>\n",
       "      <th></th>\n",
       "      <th></th>\n",
       "      <th></th>\n",
       "      <th></th>\n",
       "      <th></th>\n",
       "    </tr>\n",
       "  </thead>\n",
       "  <tbody>\n",
       "    <tr>\n",
       "      <th>fe51c153-fbec-4b64-9b00-2530035ef0e1_00004760-8e07-4751-a84d-7b915d9066a2</th>\n",
       "      <td>1</td>\n",
       "      <td>61</td>\n",
       "      <td>17271.440</td>\n",
       "      <td>4</td>\n",
       "      <td>4</td>\n",
       "      <td>4</td>\n",
       "      <td>444</td>\n",
       "      <td>12</td>\n",
       "      <td>Can't Loose Them</td>\n",
       "      <td>2</td>\n",
       "    </tr>\n",
       "    <tr>\n",
       "      <th>fe51c153-fbec-4b64-9b00-2530035ef0e1_000d112c-153b-4265-8145-9df1e472d08f</th>\n",
       "      <td>22</td>\n",
       "      <td>23</td>\n",
       "      <td>4289.160</td>\n",
       "      <td>1</td>\n",
       "      <td>4</td>\n",
       "      <td>1</td>\n",
       "      <td>141</td>\n",
       "      <td>6</td>\n",
       "      <td>Potential</td>\n",
       "      <td>0</td>\n",
       "    </tr>\n",
       "    <tr>\n",
       "      <th>fe51c153-fbec-4b64-9b00-2530035ef0e1_000f6f85-533f-4ee9-8fbd-46c06e9514ef</th>\n",
       "      <td>10</td>\n",
       "      <td>12</td>\n",
       "      <td>336.000</td>\n",
       "      <td>3</td>\n",
       "      <td>2</td>\n",
       "      <td>1</td>\n",
       "      <td>321</td>\n",
       "      <td>6</td>\n",
       "      <td>Potential</td>\n",
       "      <td>0</td>\n",
       "    </tr>\n",
       "    <tr>\n",
       "      <th>fe51c153-fbec-4b64-9b00-2530035ef0e1_00155381-9a03-4624-bd14-aca494a734aa</th>\n",
       "      <td>19</td>\n",
       "      <td>4</td>\n",
       "      <td>856.230</td>\n",
       "      <td>2</td>\n",
       "      <td>1</td>\n",
       "      <td>1</td>\n",
       "      <td>211</td>\n",
       "      <td>4</td>\n",
       "      <td>Needs Attention</td>\n",
       "      <td>0</td>\n",
       "    </tr>\n",
       "    <tr>\n",
       "      <th>fe51c153-fbec-4b64-9b00-2530035ef0e1_001588f9-484e-4406-973b-947e4fdb8ce4</th>\n",
       "      <td>1</td>\n",
       "      <td>9</td>\n",
       "      <td>14697.940</td>\n",
       "      <td>4</td>\n",
       "      <td>1</td>\n",
       "      <td>3</td>\n",
       "      <td>413</td>\n",
       "      <td>8</td>\n",
       "      <td>Champions</td>\n",
       "      <td>2</td>\n",
       "    </tr>\n",
       "    <tr>\n",
       "      <th>...</th>\n",
       "      <td>...</td>\n",
       "      <td>...</td>\n",
       "      <td>...</td>\n",
       "      <td>...</td>\n",
       "      <td>...</td>\n",
       "      <td>...</td>\n",
       "      <td>...</td>\n",
       "      <td>...</td>\n",
       "      <td>...</td>\n",
       "      <td>...</td>\n",
       "    </tr>\n",
       "    <tr>\n",
       "      <th>fe51c153-fbec-4b64-9b00-2530035ef0e1_ff98936a-b3b0-4e79-9b9f-95790b929930</th>\n",
       "      <td>9</td>\n",
       "      <td>20</td>\n",
       "      <td>5599.609</td>\n",
       "      <td>3</td>\n",
       "      <td>3</td>\n",
       "      <td>2</td>\n",
       "      <td>332</td>\n",
       "      <td>8</td>\n",
       "      <td>Champions</td>\n",
       "      <td>2</td>\n",
       "    </tr>\n",
       "    <tr>\n",
       "      <th>fe51c153-fbec-4b64-9b00-2530035ef0e1_ffaccfae-05e2-489c-b4ab-ab8866577449</th>\n",
       "      <td>16</td>\n",
       "      <td>15</td>\n",
       "      <td>24751.100</td>\n",
       "      <td>2</td>\n",
       "      <td>3</td>\n",
       "      <td>4</td>\n",
       "      <td>234</td>\n",
       "      <td>9</td>\n",
       "      <td>Can't Loose Them</td>\n",
       "      <td>1</td>\n",
       "    </tr>\n",
       "    <tr>\n",
       "      <th>fe51c153-fbec-4b64-9b00-2530035ef0e1_ffb2ffed-4eb8-4a29-b47d-dd9111e3ee61</th>\n",
       "      <td>19</td>\n",
       "      <td>5</td>\n",
       "      <td>74740.640</td>\n",
       "      <td>2</td>\n",
       "      <td>1</td>\n",
       "      <td>4</td>\n",
       "      <td>214</td>\n",
       "      <td>7</td>\n",
       "      <td>Loyal</td>\n",
       "      <td>1</td>\n",
       "    </tr>\n",
       "    <tr>\n",
       "      <th>fe51c153-fbec-4b64-9b00-2530035ef0e1_ffeb4d4f-5381-4007-bb32-89653edadc4d</th>\n",
       "      <td>2</td>\n",
       "      <td>14</td>\n",
       "      <td>26583.550</td>\n",
       "      <td>4</td>\n",
       "      <td>2</td>\n",
       "      <td>4</td>\n",
       "      <td>424</td>\n",
       "      <td>10</td>\n",
       "      <td>Can't Loose Them</td>\n",
       "      <td>1</td>\n",
       "    </tr>\n",
       "    <tr>\n",
       "      <th>fe51c153-fbec-4b64-9b00-2530035ef0e1_fff3b300-0659-4b4c-9a47-7b5c38464100</th>\n",
       "      <td>8</td>\n",
       "      <td>18</td>\n",
       "      <td>11621.710</td>\n",
       "      <td>3</td>\n",
       "      <td>3</td>\n",
       "      <td>3</td>\n",
       "      <td>333</td>\n",
       "      <td>9</td>\n",
       "      <td>Can't Loose Them</td>\n",
       "      <td>1</td>\n",
       "    </tr>\n",
       "  </tbody>\n",
       "</table>\n",
       "<p>5483 rows × 10 columns</p>\n",
       "</div>"
      ],
      "text/plain": [
       "                                                    Recency  Frequency  \\\n",
       "customerId                                                               \n",
       "fe51c153-fbec-4b64-9b00-2530035ef0e1_00004760-8...        1         61   \n",
       "fe51c153-fbec-4b64-9b00-2530035ef0e1_000d112c-1...       22         23   \n",
       "fe51c153-fbec-4b64-9b00-2530035ef0e1_000f6f85-5...       10         12   \n",
       "fe51c153-fbec-4b64-9b00-2530035ef0e1_00155381-9...       19          4   \n",
       "fe51c153-fbec-4b64-9b00-2530035ef0e1_001588f9-4...        1          9   \n",
       "...                                                     ...        ...   \n",
       "fe51c153-fbec-4b64-9b00-2530035ef0e1_ff98936a-b...        9         20   \n",
       "fe51c153-fbec-4b64-9b00-2530035ef0e1_ffaccfae-0...       16         15   \n",
       "fe51c153-fbec-4b64-9b00-2530035ef0e1_ffb2ffed-4...       19          5   \n",
       "fe51c153-fbec-4b64-9b00-2530035ef0e1_ffeb4d4f-5...        2         14   \n",
       "fe51c153-fbec-4b64-9b00-2530035ef0e1_fff3b300-0...        8         18   \n",
       "\n",
       "                                                    MonetaryValue R_Score  \\\n",
       "customerId                                                                  \n",
       "fe51c153-fbec-4b64-9b00-2530035ef0e1_00004760-8...      17271.440       4   \n",
       "fe51c153-fbec-4b64-9b00-2530035ef0e1_000d112c-1...       4289.160       1   \n",
       "fe51c153-fbec-4b64-9b00-2530035ef0e1_000f6f85-5...        336.000       3   \n",
       "fe51c153-fbec-4b64-9b00-2530035ef0e1_00155381-9...        856.230       2   \n",
       "fe51c153-fbec-4b64-9b00-2530035ef0e1_001588f9-4...      14697.940       4   \n",
       "...                                                           ...     ...   \n",
       "fe51c153-fbec-4b64-9b00-2530035ef0e1_ff98936a-b...       5599.609       3   \n",
       "fe51c153-fbec-4b64-9b00-2530035ef0e1_ffaccfae-0...      24751.100       2   \n",
       "fe51c153-fbec-4b64-9b00-2530035ef0e1_ffb2ffed-4...      74740.640       2   \n",
       "fe51c153-fbec-4b64-9b00-2530035ef0e1_ffeb4d4f-5...      26583.550       4   \n",
       "fe51c153-fbec-4b64-9b00-2530035ef0e1_fff3b300-0...      11621.710       3   \n",
       "\n",
       "                                                   F_Score M_Score RFM_Score  \\\n",
       "customerId                                                                     \n",
       "fe51c153-fbec-4b64-9b00-2530035ef0e1_00004760-8...       4       4       444   \n",
       "fe51c153-fbec-4b64-9b00-2530035ef0e1_000d112c-1...       4       1       141   \n",
       "fe51c153-fbec-4b64-9b00-2530035ef0e1_000f6f85-5...       2       1       321   \n",
       "fe51c153-fbec-4b64-9b00-2530035ef0e1_00155381-9...       1       1       211   \n",
       "fe51c153-fbec-4b64-9b00-2530035ef0e1_001588f9-4...       1       3       413   \n",
       "...                                                    ...     ...       ...   \n",
       "fe51c153-fbec-4b64-9b00-2530035ef0e1_ff98936a-b...       3       2       332   \n",
       "fe51c153-fbec-4b64-9b00-2530035ef0e1_ffaccfae-0...       3       4       234   \n",
       "fe51c153-fbec-4b64-9b00-2530035ef0e1_ffb2ffed-4...       1       4       214   \n",
       "fe51c153-fbec-4b64-9b00-2530035ef0e1_ffeb4d4f-5...       2       4       424   \n",
       "fe51c153-fbec-4b64-9b00-2530035ef0e1_fff3b300-0...       3       3       333   \n",
       "\n",
       "                                                    RFM_Total_Score  \\\n",
       "customerId                                                            \n",
       "fe51c153-fbec-4b64-9b00-2530035ef0e1_00004760-8...               12   \n",
       "fe51c153-fbec-4b64-9b00-2530035ef0e1_000d112c-1...                6   \n",
       "fe51c153-fbec-4b64-9b00-2530035ef0e1_000f6f85-5...                6   \n",
       "fe51c153-fbec-4b64-9b00-2530035ef0e1_00155381-9...                4   \n",
       "fe51c153-fbec-4b64-9b00-2530035ef0e1_001588f9-4...                8   \n",
       "...                                                             ...   \n",
       "fe51c153-fbec-4b64-9b00-2530035ef0e1_ff98936a-b...                8   \n",
       "fe51c153-fbec-4b64-9b00-2530035ef0e1_ffaccfae-0...                9   \n",
       "fe51c153-fbec-4b64-9b00-2530035ef0e1_ffb2ffed-4...                7   \n",
       "fe51c153-fbec-4b64-9b00-2530035ef0e1_ffeb4d4f-5...               10   \n",
       "fe51c153-fbec-4b64-9b00-2530035ef0e1_fff3b300-0...                9   \n",
       "\n",
       "                                                   Customer_Segmentation  \\\n",
       "customerId                                                                 \n",
       "fe51c153-fbec-4b64-9b00-2530035ef0e1_00004760-8...      Can't Loose Them   \n",
       "fe51c153-fbec-4b64-9b00-2530035ef0e1_000d112c-1...             Potential   \n",
       "fe51c153-fbec-4b64-9b00-2530035ef0e1_000f6f85-5...             Potential   \n",
       "fe51c153-fbec-4b64-9b00-2530035ef0e1_00155381-9...       Needs Attention   \n",
       "fe51c153-fbec-4b64-9b00-2530035ef0e1_001588f9-4...             Champions   \n",
       "...                                                                  ...   \n",
       "fe51c153-fbec-4b64-9b00-2530035ef0e1_ff98936a-b...             Champions   \n",
       "fe51c153-fbec-4b64-9b00-2530035ef0e1_ffaccfae-0...      Can't Loose Them   \n",
       "fe51c153-fbec-4b64-9b00-2530035ef0e1_ffb2ffed-4...                 Loyal   \n",
       "fe51c153-fbec-4b64-9b00-2530035ef0e1_ffeb4d4f-5...      Can't Loose Them   \n",
       "fe51c153-fbec-4b64-9b00-2530035ef0e1_fff3b300-0...      Can't Loose Them   \n",
       "\n",
       "                                                    Cluster  \n",
       "customerId                                                   \n",
       "fe51c153-fbec-4b64-9b00-2530035ef0e1_00004760-8...        2  \n",
       "fe51c153-fbec-4b64-9b00-2530035ef0e1_000d112c-1...        0  \n",
       "fe51c153-fbec-4b64-9b00-2530035ef0e1_000f6f85-5...        0  \n",
       "fe51c153-fbec-4b64-9b00-2530035ef0e1_00155381-9...        0  \n",
       "fe51c153-fbec-4b64-9b00-2530035ef0e1_001588f9-4...        2  \n",
       "...                                                     ...  \n",
       "fe51c153-fbec-4b64-9b00-2530035ef0e1_ff98936a-b...        2  \n",
       "fe51c153-fbec-4b64-9b00-2530035ef0e1_ffaccfae-0...        1  \n",
       "fe51c153-fbec-4b64-9b00-2530035ef0e1_ffb2ffed-4...        1  \n",
       "fe51c153-fbec-4b64-9b00-2530035ef0e1_ffeb4d4f-5...        1  \n",
       "fe51c153-fbec-4b64-9b00-2530035ef0e1_fff3b300-0...        1  \n",
       "\n",
       "[5483 rows x 10 columns]"
      ]
     },
     "execution_count": 25,
     "metadata": {},
     "output_type": "execute_result"
    }
   ],
   "source": [
    "model = KMeans(n_clusters=3, random_state=42)\n",
    "model.fit(customers_normalized)\n",
    "customers[\"Cluster\"] = model.labels_\n",
    "customers"
   ]
  },
  {
   "cell_type": "code",
   "execution_count": 26,
   "metadata": {},
   "outputs": [
    {
     "data": {
      "text/html": [
       "<div>\n",
       "<style scoped>\n",
       "    .dataframe tbody tr th:only-of-type {\n",
       "        vertical-align: middle;\n",
       "    }\n",
       "\n",
       "    .dataframe tbody tr th {\n",
       "        vertical-align: top;\n",
       "    }\n",
       "\n",
       "    .dataframe thead tr th {\n",
       "        text-align: left;\n",
       "    }\n",
       "\n",
       "    .dataframe thead tr:last-of-type th {\n",
       "        text-align: right;\n",
       "    }\n",
       "</style>\n",
       "<table border=\"1\" class=\"dataframe\">\n",
       "  <thead>\n",
       "    <tr>\n",
       "      <th></th>\n",
       "      <th>Recency</th>\n",
       "      <th>Frequency</th>\n",
       "      <th colspan=\"2\" halign=\"left\">MonetaryValue</th>\n",
       "    </tr>\n",
       "    <tr>\n",
       "      <th></th>\n",
       "      <th>mean</th>\n",
       "      <th>mean</th>\n",
       "      <th>mean</th>\n",
       "      <th>count</th>\n",
       "    </tr>\n",
       "    <tr>\n",
       "      <th>Cluster</th>\n",
       "      <th></th>\n",
       "      <th></th>\n",
       "      <th></th>\n",
       "      <th></th>\n",
       "    </tr>\n",
       "  </thead>\n",
       "  <tbody>\n",
       "    <tr>\n",
       "      <th>0</th>\n",
       "      <td>33.8</td>\n",
       "      <td>9.8</td>\n",
       "      <td>5985.8</td>\n",
       "      <td>1799</td>\n",
       "    </tr>\n",
       "    <tr>\n",
       "      <th>1</th>\n",
       "      <td>14.0</td>\n",
       "      <td>16.4</td>\n",
       "      <td>25381.5</td>\n",
       "      <td>1820</td>\n",
       "    </tr>\n",
       "    <tr>\n",
       "      <th>2</th>\n",
       "      <td>3.3</td>\n",
       "      <td>24.0</td>\n",
       "      <td>7228.2</td>\n",
       "      <td>1864</td>\n",
       "    </tr>\n",
       "  </tbody>\n",
       "</table>\n",
       "</div>"
      ],
      "text/plain": [
       "        Recency Frequency MonetaryValue      \n",
       "           mean      mean          mean count\n",
       "Cluster                                      \n",
       "0          33.8       9.8        5985.8  1799\n",
       "1          14.0      16.4       25381.5  1820\n",
       "2           3.3      24.0        7228.2  1864"
      ]
     },
     "execution_count": 26,
     "metadata": {},
     "output_type": "execute_result"
    }
   ],
   "source": [
    "customers.groupby('Cluster').agg({\n",
    "    'Recency':'mean',\n",
    "    'Frequency':'mean',\n",
    "    'MonetaryValue':['mean','count']}).round(1)"
   ]
  },
  {
   "cell_type": "code",
   "execution_count": 27,
   "metadata": {},
   "outputs": [],
   "source": [
    "df_normalized = pd.DataFrame(customers_normalized, columns=['Recency', 'Frequency', 'MonetaryValue'])\n",
    "df_normalized['ID'] = customers.index\n",
    "df_normalized['Cluster'] = model.labels_\n",
    "customers=customers.reset_index()"
   ]
  },
  {
   "cell_type": "code",
   "execution_count": 28,
   "metadata": {},
   "outputs": [
    {
     "data": {
      "text/html": [
       "<div>\n",
       "<style scoped>\n",
       "    .dataframe tbody tr th:only-of-type {\n",
       "        vertical-align: middle;\n",
       "    }\n",
       "\n",
       "    .dataframe tbody tr th {\n",
       "        vertical-align: top;\n",
       "    }\n",
       "\n",
       "    .dataframe thead th {\n",
       "        text-align: right;\n",
       "    }\n",
       "</style>\n",
       "<table border=\"1\" class=\"dataframe\">\n",
       "  <thead>\n",
       "    <tr style=\"text-align: right;\">\n",
       "      <th></th>\n",
       "      <th>Recency</th>\n",
       "      <th>Frequency</th>\n",
       "      <th>MonetaryValue</th>\n",
       "      <th>ID</th>\n",
       "      <th>Cluster</th>\n",
       "      <th>customerId</th>\n",
       "      <th>Customer_Segmentation</th>\n",
       "    </tr>\n",
       "  </thead>\n",
       "  <tbody>\n",
       "    <tr>\n",
       "      <th>0</th>\n",
       "      <td>-1.721265</td>\n",
       "      <td>2.894604</td>\n",
       "      <td>0.654259</td>\n",
       "      <td>fe51c153-fbec-4b64-9b00-2530035ef0e1_00004760-...</td>\n",
       "      <td>2</td>\n",
       "      <td>fe51c153-fbec-4b64-9b00-2530035ef0e1_00004760-...</td>\n",
       "      <td>Can't Loose Them</td>\n",
       "    </tr>\n",
       "    <tr>\n",
       "      <th>1</th>\n",
       "      <td>0.784518</td>\n",
       "      <td>0.776248</td>\n",
       "      <td>-0.615516</td>\n",
       "      <td>fe51c153-fbec-4b64-9b00-2530035ef0e1_000d112c-...</td>\n",
       "      <td>0</td>\n",
       "      <td>fe51c153-fbec-4b64-9b00-2530035ef0e1_000d112c-...</td>\n",
       "      <td>Potential</td>\n",
       "    </tr>\n",
       "    <tr>\n",
       "      <th>2</th>\n",
       "      <td>0.147252</td>\n",
       "      <td>-0.354387</td>\n",
       "      <td>-1.844865</td>\n",
       "      <td>fe51c153-fbec-4b64-9b00-2530035ef0e1_000f6f85-...</td>\n",
       "      <td>0</td>\n",
       "      <td>fe51c153-fbec-4b64-9b00-2530035ef0e1_000f6f85-...</td>\n",
       "      <td>Potential</td>\n",
       "    </tr>\n",
       "    <tr>\n",
       "      <th>3</th>\n",
       "      <td>0.666125</td>\n",
       "      <td>-1.862818</td>\n",
       "      <td>-1.508457</td>\n",
       "      <td>fe51c153-fbec-4b64-9b00-2530035ef0e1_00155381-...</td>\n",
       "      <td>0</td>\n",
       "      <td>fe51c153-fbec-4b64-9b00-2530035ef0e1_00155381-...</td>\n",
       "      <td>Needs Attention</td>\n",
       "    </tr>\n",
       "    <tr>\n",
       "      <th>4</th>\n",
       "      <td>-1.721265</td>\n",
       "      <td>-0.793946</td>\n",
       "      <td>0.475259</td>\n",
       "      <td>fe51c153-fbec-4b64-9b00-2530035ef0e1_001588f9-...</td>\n",
       "      <td>2</td>\n",
       "      <td>fe51c153-fbec-4b64-9b00-2530035ef0e1_001588f9-...</td>\n",
       "      <td>Champions</td>\n",
       "    </tr>\n",
       "    <tr>\n",
       "      <th>...</th>\n",
       "      <td>...</td>\n",
       "      <td>...</td>\n",
       "      <td>...</td>\n",
       "      <td>...</td>\n",
       "      <td>...</td>\n",
       "      <td>...</td>\n",
       "      <td>...</td>\n",
       "    </tr>\n",
       "    <tr>\n",
       "      <th>5478</th>\n",
       "      <td>0.061996</td>\n",
       "      <td>0.516198</td>\n",
       "      <td>-0.415817</td>\n",
       "      <td>fe51c153-fbec-4b64-9b00-2530035ef0e1_ff98936a-...</td>\n",
       "      <td>2</td>\n",
       "      <td>fe51c153-fbec-4b64-9b00-2530035ef0e1_ff98936a-...</td>\n",
       "      <td>Champions</td>\n",
       "    </tr>\n",
       "    <tr>\n",
       "      <th>5479</th>\n",
       "      <td>0.527286</td>\n",
       "      <td>0.011070</td>\n",
       "      <td>1.089875</td>\n",
       "      <td>fe51c153-fbec-4b64-9b00-2530035ef0e1_ffaccfae-...</td>\n",
       "      <td>1</td>\n",
       "      <td>fe51c153-fbec-4b64-9b00-2530035ef0e1_ffaccfae-...</td>\n",
       "      <td>Can't Loose Them</td>\n",
       "    </tr>\n",
       "    <tr>\n",
       "      <th>5480</th>\n",
       "      <td>0.666125</td>\n",
       "      <td>-1.591817</td>\n",
       "      <td>2.806507</td>\n",
       "      <td>fe51c153-fbec-4b64-9b00-2530035ef0e1_ffb2ffed-...</td>\n",
       "      <td>1</td>\n",
       "      <td>fe51c153-fbec-4b64-9b00-2530035ef0e1_ffb2ffed-...</td>\n",
       "      <td>Loyal</td>\n",
       "    </tr>\n",
       "    <tr>\n",
       "      <th>5481</th>\n",
       "      <td>-1.157613</td>\n",
       "      <td>-0.104303</td>\n",
       "      <td>1.182734</td>\n",
       "      <td>fe51c153-fbec-4b64-9b00-2530035ef0e1_ffeb4d4f-...</td>\n",
       "      <td>1</td>\n",
       "      <td>fe51c153-fbec-4b64-9b00-2530035ef0e1_ffeb4d4f-...</td>\n",
       "      <td>Can't Loose Them</td>\n",
       "    </tr>\n",
       "    <tr>\n",
       "      <th>5482</th>\n",
       "      <td>-0.033339</td>\n",
       "      <td>0.326595</td>\n",
       "      <td>0.231347</td>\n",
       "      <td>fe51c153-fbec-4b64-9b00-2530035ef0e1_fff3b300-...</td>\n",
       "      <td>1</td>\n",
       "      <td>fe51c153-fbec-4b64-9b00-2530035ef0e1_fff3b300-...</td>\n",
       "      <td>Can't Loose Them</td>\n",
       "    </tr>\n",
       "  </tbody>\n",
       "</table>\n",
       "<p>5483 rows × 7 columns</p>\n",
       "</div>"
      ],
      "text/plain": [
       "       Recency  Frequency  MonetaryValue  \\\n",
       "0    -1.721265   2.894604       0.654259   \n",
       "1     0.784518   0.776248      -0.615516   \n",
       "2     0.147252  -0.354387      -1.844865   \n",
       "3     0.666125  -1.862818      -1.508457   \n",
       "4    -1.721265  -0.793946       0.475259   \n",
       "...        ...        ...            ...   \n",
       "5478  0.061996   0.516198      -0.415817   \n",
       "5479  0.527286   0.011070       1.089875   \n",
       "5480  0.666125  -1.591817       2.806507   \n",
       "5481 -1.157613  -0.104303       1.182734   \n",
       "5482 -0.033339   0.326595       0.231347   \n",
       "\n",
       "                                                     ID  Cluster  \\\n",
       "0     fe51c153-fbec-4b64-9b00-2530035ef0e1_00004760-...        2   \n",
       "1     fe51c153-fbec-4b64-9b00-2530035ef0e1_000d112c-...        0   \n",
       "2     fe51c153-fbec-4b64-9b00-2530035ef0e1_000f6f85-...        0   \n",
       "3     fe51c153-fbec-4b64-9b00-2530035ef0e1_00155381-...        0   \n",
       "4     fe51c153-fbec-4b64-9b00-2530035ef0e1_001588f9-...        2   \n",
       "...                                                 ...      ...   \n",
       "5478  fe51c153-fbec-4b64-9b00-2530035ef0e1_ff98936a-...        2   \n",
       "5479  fe51c153-fbec-4b64-9b00-2530035ef0e1_ffaccfae-...        1   \n",
       "5480  fe51c153-fbec-4b64-9b00-2530035ef0e1_ffb2ffed-...        1   \n",
       "5481  fe51c153-fbec-4b64-9b00-2530035ef0e1_ffeb4d4f-...        1   \n",
       "5482  fe51c153-fbec-4b64-9b00-2530035ef0e1_fff3b300-...        1   \n",
       "\n",
       "                                             customerId Customer_Segmentation  \n",
       "0     fe51c153-fbec-4b64-9b00-2530035ef0e1_00004760-...      Can't Loose Them  \n",
       "1     fe51c153-fbec-4b64-9b00-2530035ef0e1_000d112c-...             Potential  \n",
       "2     fe51c153-fbec-4b64-9b00-2530035ef0e1_000f6f85-...             Potential  \n",
       "3     fe51c153-fbec-4b64-9b00-2530035ef0e1_00155381-...       Needs Attention  \n",
       "4     fe51c153-fbec-4b64-9b00-2530035ef0e1_001588f9-...             Champions  \n",
       "...                                                 ...                   ...  \n",
       "5478  fe51c153-fbec-4b64-9b00-2530035ef0e1_ff98936a-...             Champions  \n",
       "5479  fe51c153-fbec-4b64-9b00-2530035ef0e1_ffaccfae-...      Can't Loose Them  \n",
       "5480  fe51c153-fbec-4b64-9b00-2530035ef0e1_ffb2ffed-...                 Loyal  \n",
       "5481  fe51c153-fbec-4b64-9b00-2530035ef0e1_ffeb4d4f-...      Can't Loose Them  \n",
       "5482  fe51c153-fbec-4b64-9b00-2530035ef0e1_fff3b300-...      Can't Loose Them  \n",
       "\n",
       "[5483 rows x 7 columns]"
      ]
     },
     "execution_count": 28,
     "metadata": {},
     "output_type": "execute_result"
    }
   ],
   "source": [
    "df_normalized=pd.merge(df_normalized,customers[['customerId','Customer_Segmentation']],left_on='ID',right_on='customerId', how='left')\n",
    "df_normalized"
   ]
  },
  {
   "cell_type": "code",
   "execution_count": 29,
   "metadata": {},
   "outputs": [
    {
     "data": {
      "application/javascript": [
       "\n",
       "        if (window._pyforest_update_imports_cell) { window._pyforest_update_imports_cell('import numpy as np\\nimport seaborn as sns'); }\n",
       "    "
      ],
      "text/plain": [
       "<IPython.core.display.Javascript object>"
      ]
     },
     "metadata": {},
     "output_type": "display_data"
    },
    {
     "data": {
      "text/plain": [
       "<matplotlib.axes._subplots.AxesSubplot at 0x29579d540d0>"
      ]
     },
     "execution_count": 29,
     "metadata": {},
     "output_type": "execute_result"
    },
    {
     "data": {
      "image/png": "[encoded data removed]",
      "text/plain": [
       "<Figure size 864x360 with 1 Axes>"
      ]
     },
     "metadata": {
      "needs_background": "light"
     },
     "output_type": "display_data"
    }
   ],
   "source": [
    "# Melt The Data\n",
    "df_melt = pd.melt(df_normalized.reset_index(),\n",
    "                      id_vars=['ID', 'Cluster','Customer_Segmentation'],\n",
    "                      value_vars=['Recency','Frequency','MonetaryValue'],\n",
    "                      var_name='Attribute',\n",
    "                      value_name='Value')\n",
    "plt.figure(figsize=(12,5))\n",
    "sns.countplot(x='Customer_Segmentation',hue='Cluster',data=df_melt)\n",
    "#plt.savefig('cluster.png')"
   ]
  }
 ],
 "metadata": {
  "kernelspec": {
   "display_name": "Python 3",
   "language": "python",
   "name": "python3"
  },
  "language_info": {
   "codemirror_mode": {
    "name": "ipython",
    "version": 3
   },
   "file_extension": ".py",
   "mimetype": "text/x-python",
   "name": "python",
   "nbconvert_exporter": "python",
   "pygments_lexer": "ipython3",
   "version": "3.8.3"
  }
 },
 "nbformat": 4,
 "nbformat_minor": 2
}
